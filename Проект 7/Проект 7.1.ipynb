{
 "cells": [
  {
   "cell_type": "markdown",
   "id": "e06910dd",
   "metadata": {
    "id": "e06910dd"
   },
   "source": [
    "# Анализ индустрии игр в начале XXI века\n",
    "\n",
    "- Автор: Сергей Панченко\n",
    "- Дата: 18.01.2025"
   ]
  },
  {
   "cell_type": "markdown",
   "id": "4149134c",
   "metadata": {
    "id": "4149134c"
   },
   "source": [
    "### Цели и задачи проекта\n",
    "\n",
    "Изучить развитие игровой индустрии.Познакомиться с данными, проверить их корректность и провести предобработку, получив необходимый срез данных."
   ]
  },
  {
   "cell_type": "markdown",
   "id": "8c680f07",
   "metadata": {},
   "source": [
    "<img src=\"https://upload.wikimedia.org/wikipedia/commons/b/ba/Warning_sign_4.0.png\" align=left width=44, heigth=33>\n",
    "<div class=\"alert alert-warning\">\n",
    "    \n",
    "Для обычного текста лучше не использовать ####, потому что иначе он превращается в  заголовок (пусть и не очень высокого уровня)   \n",
    "</div>"
   ]
  },
  {
   "cell_type": "markdown",
   "id": "728986ea",
   "metadata": {
    "id": "728986ea"
   },
   "source": [
    "### Описание данных\n",
    "\n",
    "Данные /datasets/new_games.csv содержат информацию о продажах игр разных жанров и платформ, а также пользовательские и экспертные оценки игр:\n",
    "- `Name` — название игры;\n",
    "- `Platform` — название платформы;\n",
    "- `Year of Release` — год выпуска игры;\n",
    "- `Genre` — жанр игры;\n",
    "- `NA sales` — продажи в Северной Америке (в миллионах проданных копий);\n",
    "- `EU sales` — продажи в Европе (в миллионах проданных копий);\n",
    "- `JP sales` — продажи в Японии (в миллионах проданных копий);\n",
    "- `Other sales` — продажи в других странах (в миллионах проданных копий);\n",
    "- `Critic Score` — оценка критиков (от 0 до 100);\n",
    "- `User Score` — оценка пользователей (от 0 до 10);\n",
    "- `Rating` — рейтинг организации ESRB (англ. Entertainment Software Rating Board). Эта ассоциация определяет рейтинг компьютерных игр и присваивает им подходящую возрастную категорию."
   ]
  },
  {
   "cell_type": "markdown",
   "id": "4fecaf95",
   "metadata": {
    "id": "4fecaf95"
   },
   "source": [
    "### Содержимое проекта\n",
    "\n",
    "1. Загрузка данных и знакомство с ними\n",
    "2. Проверка ошибок в данных и их предобработка\n",
    "3. Фильтрация данных\n",
    "4. Категоризация данных\n",
    "5. Итоговый вывод\n",
    "\n",
    "---"
   ]
  },
  {
   "cell_type": "markdown",
   "id": "6f7d21d6",
   "metadata": {
    "id": "6f7d21d6"
   },
   "source": [
    "## 1. Загрузка данных и знакомство с ними\n",
    "\n",
    "- Загрузите необходимые библиотеки Python и данные датасета `/datasets/new_games.csv`.\n"
   ]
  },
  {
   "cell_type": "markdown",
   "id": "e0a8705f",
   "metadata": {
    "id": "e0a8705f"
   },
   "source": [
    "- Познакомьтесь с данными: выведите первые строки и результат метода `info()`.\n"
   ]
  },
  {
   "cell_type": "code",
   "execution_count": 1,
   "id": "3937acf7",
   "metadata": {
    "id": "3937acf7",
    "scrolled": false
   },
   "outputs": [
    {
     "name": "stdout",
     "output_type": "stream",
     "text": [
      "<class 'pandas.core.frame.DataFrame'>\n",
      "RangeIndex: 16956 entries, 0 to 16955\n",
      "Data columns (total 11 columns):\n",
      " #   Column           Non-Null Count  Dtype  \n",
      "---  ------           --------------  -----  \n",
      " 0   Name             16954 non-null  object \n",
      " 1   Platform         16956 non-null  object \n",
      " 2   Year of Release  16681 non-null  float64\n",
      " 3   Genre            16954 non-null  object \n",
      " 4   NA sales         16956 non-null  float64\n",
      " 5   EU sales         16956 non-null  object \n",
      " 6   JP sales         16956 non-null  object \n",
      " 7   Other sales      16956 non-null  float64\n",
      " 8   Critic Score     8242 non-null   float64\n",
      " 9   User Score       10152 non-null  object \n",
      " 10  Rating           10085 non-null  object \n",
      "dtypes: float64(4), object(7)\n",
      "memory usage: 1.4+ MB\n"
     ]
    },
    {
     "data": {
      "text/html": [
       "<div>\n",
       "<style scoped>\n",
       "    .dataframe tbody tr th:only-of-type {\n",
       "        vertical-align: middle;\n",
       "    }\n",
       "\n",
       "    .dataframe tbody tr th {\n",
       "        vertical-align: top;\n",
       "    }\n",
       "\n",
       "    .dataframe thead th {\n",
       "        text-align: right;\n",
       "    }\n",
       "</style>\n",
       "<table border=\"1\" class=\"dataframe\">\n",
       "  <thead>\n",
       "    <tr style=\"text-align: right;\">\n",
       "      <th></th>\n",
       "      <th>Name</th>\n",
       "      <th>Platform</th>\n",
       "      <th>Year of Release</th>\n",
       "      <th>Genre</th>\n",
       "      <th>NA sales</th>\n",
       "      <th>EU sales</th>\n",
       "      <th>JP sales</th>\n",
       "      <th>Other sales</th>\n",
       "      <th>Critic Score</th>\n",
       "      <th>User Score</th>\n",
       "      <th>Rating</th>\n",
       "    </tr>\n",
       "  </thead>\n",
       "  <tbody>\n",
       "    <tr>\n",
       "      <th>0</th>\n",
       "      <td>Wii Sports</td>\n",
       "      <td>Wii</td>\n",
       "      <td>2006.0</td>\n",
       "      <td>Sports</td>\n",
       "      <td>41.36</td>\n",
       "      <td>28.96</td>\n",
       "      <td>3.77</td>\n",
       "      <td>8.45</td>\n",
       "      <td>76.0</td>\n",
       "      <td>8</td>\n",
       "      <td>E</td>\n",
       "    </tr>\n",
       "    <tr>\n",
       "      <th>1</th>\n",
       "      <td>Super Mario Bros.</td>\n",
       "      <td>NES</td>\n",
       "      <td>1985.0</td>\n",
       "      <td>Platform</td>\n",
       "      <td>29.08</td>\n",
       "      <td>3.58</td>\n",
       "      <td>6.81</td>\n",
       "      <td>0.77</td>\n",
       "      <td>NaN</td>\n",
       "      <td>NaN</td>\n",
       "      <td>NaN</td>\n",
       "    </tr>\n",
       "    <tr>\n",
       "      <th>2</th>\n",
       "      <td>Mario Kart Wii</td>\n",
       "      <td>Wii</td>\n",
       "      <td>2008.0</td>\n",
       "      <td>Racing</td>\n",
       "      <td>15.68</td>\n",
       "      <td>12.76</td>\n",
       "      <td>3.79</td>\n",
       "      <td>3.29</td>\n",
       "      <td>82.0</td>\n",
       "      <td>8.3</td>\n",
       "      <td>E</td>\n",
       "    </tr>\n",
       "    <tr>\n",
       "      <th>3</th>\n",
       "      <td>Wii Sports Resort</td>\n",
       "      <td>Wii</td>\n",
       "      <td>2009.0</td>\n",
       "      <td>Sports</td>\n",
       "      <td>15.61</td>\n",
       "      <td>10.93</td>\n",
       "      <td>3.28</td>\n",
       "      <td>2.95</td>\n",
       "      <td>80.0</td>\n",
       "      <td>8</td>\n",
       "      <td>E</td>\n",
       "    </tr>\n",
       "    <tr>\n",
       "      <th>4</th>\n",
       "      <td>Pokemon Red/Pokemon Blue</td>\n",
       "      <td>GB</td>\n",
       "      <td>1996.0</td>\n",
       "      <td>Role-Playing</td>\n",
       "      <td>11.27</td>\n",
       "      <td>8.89</td>\n",
       "      <td>10.22</td>\n",
       "      <td>1.00</td>\n",
       "      <td>NaN</td>\n",
       "      <td>NaN</td>\n",
       "      <td>NaN</td>\n",
       "    </tr>\n",
       "  </tbody>\n",
       "</table>\n",
       "</div>"
      ],
      "text/plain": [
       "                       Name Platform  Year of Release         Genre  NA sales  \\\n",
       "0                Wii Sports      Wii           2006.0        Sports     41.36   \n",
       "1         Super Mario Bros.      NES           1985.0      Platform     29.08   \n",
       "2            Mario Kart Wii      Wii           2008.0        Racing     15.68   \n",
       "3         Wii Sports Resort      Wii           2009.0        Sports     15.61   \n",
       "4  Pokemon Red/Pokemon Blue       GB           1996.0  Role-Playing     11.27   \n",
       "\n",
       "  EU sales JP sales  Other sales  Critic Score User Score Rating  \n",
       "0    28.96     3.77         8.45          76.0          8      E  \n",
       "1     3.58     6.81         0.77           NaN        NaN    NaN  \n",
       "2    12.76     3.79         3.29          82.0        8.3      E  \n",
       "3    10.93     3.28         2.95          80.0          8      E  \n",
       "4     8.89    10.22         1.00           NaN        NaN    NaN  "
      ]
     },
     "execution_count": 1,
     "metadata": {},
     "output_type": "execute_result"
    }
   ],
   "source": [
    "# Импортируем библиотеку pandas\n",
    "import pandas as pd\n",
    "# Выгружаем данные из датасета datasets/new_games.csv в датафрейм new_games\n",
    "new_games = pd.read_csv('https://code.s3.yandex.net/datasets/new_games.csv')\n",
    "# Выводим информацию о датафрейме\n",
    "new_games.info()\n",
    "# Выводим первые строки датафрейма на экран\n",
    "new_games.head()\n"
   ]
  },
  {
   "cell_type": "markdown",
   "id": "26267bc0",
   "metadata": {
    "id": "26267bc0"
   },
   "source": [
    "- Сделайте вывод о полученных данных: данные какого объёма вам предоставили, соответствуют ли они описанию, встречаются ли в них пропуски, используются ли верные типы данных.\n",
    "- Отметьте другие особенности данных, которые вы обнаружили и на которые стоит обратить внимание при предобработке. Например, вы можете проверить названия столбцов: все ли названия отражают содержимое данных и прописаны в удобном для работы виде."
   ]
  },
  {
   "cell_type": "markdown",
   "id": "05f55eb6",
   "metadata": {
    "id": "05f55eb6"
   },
   "source": [
    "<font color='#777778'>Используйте ячейки типа Markdown для промежуточных выводов и расширенных комментариев к действиям с данными. </font>"
   ]
  },
  {
   "cell_type": "markdown",
   "id": "485dfe7b",
   "metadata": {
    "id": "81651b8d"
   },
   "source": [
    "Датасет `datasets/new_games.csv` содержит 11 столбцов и 16 956 строк, в которых представлена информация об играх.\n",
    "\n",
    "Изучим типы данных и их корректность:\n",
    "- **Числовые значения с плавающей запятой (float64).** Четыре столбца представлены типом данных `float64`, `Year of Release`- год выпуска игры, как мне кажется разумнее было бы хранить данную информацию в типе данных `int64`. следующий столбец `NA sales`- продажи в Северной Америке (в миллионах проданных копий), в принципе логично хранить в данном типе данных, так как там явно не будет целого значения, далее `Other sales`- продажи в других странах (в миллионах проданных копий) так же логично хранить данные в `float64` для лучшей детализации продаж и `Critic Score`- оценка критиков (от 0 до 100) в принципе можно так и оставить я думаю не критично.\n",
    "- **Строковые данные (object).** Семь столбцов имеют тип данных `object`:\n",
    "    -`Name`, `Platform`, `Genre` название игры, название платформы и жанр игры соответсвенно эти данные содержат строковую информацию и вполне логично имеют тип данных `object`, тут всё впорядке.\n",
    "    -`EU sales` `JP sales` и `User Score` логичгнее было бы привести к типу данных с плавающей запятой (`float64`), так как во первых это числа, во вторых не целые, соответственно `object` не подходит.\n",
    "    -`Rating` рейтинг организации ESRB (англ. Entertainment Software Rating Board), ассоциация определяет рейтинг компьютерных игр и присваивает им подходящую возрастную категорию, как мне кажется логичнее представить эти данные не в `object`, а в `category` данный тип хранит ограниченный список значений-категорий, как раз то что надо.\n",
    "После анализа типов данных видно, что большинство столбцов корректно представлены. Однако для оптимизации и точной корректности некоторые данные в столбцах нужно будет преобразовывать в другие типы данных.   \n",
    "  "
   ]
  },
  {
   "cell_type": "markdown",
   "id": "774bf76e",
   "metadata": {
    "id": "774bf76e"
   },
   "source": [
    "---\n",
    "\n",
    "## 2.  Проверка ошибок в данных и их предобработка\n",
    "\n",
    "\n",
    "### 2.1. Названия, или метки, столбцов датафрейма\n",
    "\n",
    "- Выведите на экран названия всех столбцов датафрейма и проверьте их стиль написания.\n",
    "- Приведите все столбцы к стилю snake case. Названия должны быть в нижнем регистре, а вместо пробелов — подчёркивания."
   ]
  },
  {
   "cell_type": "code",
   "execution_count": 2,
   "id": "b9276a2b",
   "metadata": {
    "id": "b9276a2b"
   },
   "outputs": [
    {
     "name": "stdout",
     "output_type": "stream",
     "text": [
      "Index(['Name', 'Platform', 'Year of Release', 'Genre', 'NA sales', 'EU sales',\n",
      "       'JP sales', 'Other sales', 'Critic Score', 'User Score', 'Rating'],\n",
      "      dtype='object')\n"
     ]
    }
   ],
   "source": [
    "# Выводим названия столбцов датафрейма\n",
    "print(new_games.columns) "
   ]
  },
  {
   "cell_type": "code",
   "execution_count": 3,
   "id": "d554563c",
   "metadata": {
    "id": "d554563c"
   },
   "outputs": [
    {
     "name": "stdout",
     "output_type": "stream",
     "text": [
      "Index(['name', 'platform', 'year_of_release', 'genre', 'na_sales', 'eu_sales',\n",
      "       'jp_sales', 'other_sales', 'critic_score', 'user_score', 'rating'],\n",
      "      dtype='object')\n"
     ]
    }
   ],
   "source": [
    " "
   ]
  },
  {
   "cell_type": "markdown",
   "id": "41bc6bf8",
   "metadata": {
    "id": "41bc6bf8"
   },
   "source": [
    "### 2.2. Типы данных\n",
    "\n",
    "- Если встречаются некорректные типы данных, предположите их причины.\n",
    "- При необходимости проведите преобразование типов данных. Помните, что столбцы с числовыми данными и пропусками нельзя преобразовать к типу `int64`. Сначала вам понадобится обработать пропуски, а затем преобразовать типы данных."
   ]
  },
  {
   "cell_type": "code",
   "execution_count": 4,
   "id": "e4f68212",
   "metadata": {
    "scrolled": true
   },
   "outputs": [
    {
     "data": {
      "text/plain": [
       "name                object\n",
       "platform            object\n",
       "year_of_release    float64\n",
       "genre               object\n",
       "na_sales           float64\n",
       "eu_sales            object\n",
       "jp_sales            object\n",
       "other_sales        float64\n",
       "critic_score       float64\n",
       "user_score          object\n",
       "rating              object\n",
       "dtype: object"
      ]
     },
     "execution_count": 4,
     "metadata": {},
     "output_type": "execute_result"
    }
   ],
   "source": [
    "new_games.dtypes"
   ]
  },
  {
   "cell_type": "code",
   "execution_count": 5,
   "id": "dd7e1da2",
   "metadata": {},
   "outputs": [
    {
     "name": "stdout",
     "output_type": "stream",
     "text": [
      "['28.96' '3.58' '12.76' '10.93' '8.89' '2.26' '9.14' '9.18' '6.94' '0.63'\n",
      " '10.95' '7.47' '6.18' '8.03' '4.89' '8.49' '9.09' '0.4' '3.75' '9.2'\n",
      " '4.46' '2.71' '3.44' '5.14' '5.49' '3.9' '5.35' '3.17' '5.09' '4.24'\n",
      " '5.04' '5.86' '3.68' '4.19' '5.73' '3.59' '4.51' '2.55' '4.02' '4.37'\n",
      " '6.31' '3.45' '2.81' '2.85' '3.49' '0.01' '3.35' '2.04' '3.07' '3.87'\n",
      " '3.0' '4.82' '3.64' '2.15' '3.69' '2.65' '2.56' '3.11' '3.14' '1.94'\n",
      " '1.95' '2.47' '2.28' '3.42' '3.63' '2.36' '1.71' '1.85' '2.79' '1.24'\n",
      " '6.12' '1.53' '3.47' '2.24' '5.01' '2.01' '1.72' '2.07' '6.42' '3.86'\n",
      " '0.45' '3.48' '1.89' '5.75' '2.17' '1.37' '2.35' '1.18' '2.11' '1.88'\n",
      " '2.83' '2.99' '2.89' '3.27' '2.22' '2.14' '1.45' '1.75' '1.04' '1.77'\n",
      " '3.02' '2.75' '2.16' '1.9' '2.59' '2.2' '4.3' '0.93' '2.53' '2.52' '1.79'\n",
      " '1.3' '2.6' '1.58' '1.2' '1.56' '1.34' '1.26' '0.83' '6.21' '2.8' '1.59'\n",
      " '1.73' '4.33' '1.83' '0.0' '2.18' '1.98' '1.47' '0.67' '1.55' '1.91'\n",
      " '0.69' '0.6' '1.93' '1.64' '0.55' '2.19' '1.11' '2.29' '2.5' '0.96'\n",
      " '1.21' '1.12' '0.77' '1.69' '1.08' '0.79' '2.37' '2.46' '0.26' '0.75'\n",
      " '1.25' '2.43' '0.98' '0.74' '2.23' '0.61' '2.45' '1.41' '1.8' '3.28'\n",
      " '1.16' '1.99' '1.38' '1.36' '1.17' '1.19' '0.99' '1.68' '2.0' '1.33'\n",
      " '1.57' '1.48' '2.1' '1.27' '1.97' '0.91' '1.39' '1.96' '0.24' '1.51'\n",
      " '0.14' '1.29' '2.39' '1.03' '0.5' '0.58' '1.31' '2.02' '1.32' '1.01'\n",
      " '2.27' '2.3' '1.82' '2.78' '0.44' '0.48' '0.27' '0.21' '2.48' '0.51'\n",
      " '1.52' '0.04' '0.28' '1.35' '0.87' '2.13' '1.13' '1.76' '0.76' '2.12'\n",
      " '0.66' '1.6' '1.44' '1.43' '1.7' '0.47' '1.87' '0.86' '0.73' '1.28'\n",
      " '0.81' '1.09' '0.68' '1.22' '1.4' '1.02' '1.49' '1.14' '0.49' '0.9'\n",
      " '0.38' '1.42' '0.95' '1.62' '0.71' '1.05' '0.92' '0.33' '0.3' '1.67'\n",
      " '1.0' '0.89' '0.1' '0.72' '0.59' '0.56' '0.16' '0.97' '0.62' 'unknown'\n",
      " '0.85' '0.94' '0.88' '0.84' '1.06' '0.2' '1.15' '0.8' '1.1' '0.7' '1.92'\n",
      " '0.32' '0.15' '0.53' '0.09' '1.46' '0.29' '0.22' '1.23' '0.07' '0.17'\n",
      " '0.54' '0.36' '0.31' '1.84' '0.52' '0.11' '0.64' '0.12' '2.05' '1.63'\n",
      " '0.82' '0.08' '0.57' '1.65' '0.19' '0.02' '0.43' '0.25' '1.5' '0.18'\n",
      " '0.39' '0.13' '1.07' '0.46' '0.41' '0.06' '0.03' '0.37' '0.05' '0.23'\n",
      " '0.65' '0.42' '0.34' '0.35' '0.78'] ['3.77' '6.81' '3.79' '3.28' '10.22' '4.22' '6.5' '2.93' '4.7' '0.28'\n",
      " '1.93' '4.13' '7.2' '3.6' '0.24' '2.53' '0.98' '0.41' '3.54' '4.16'\n",
      " '6.04' '4.18' '3.84' '0.06' '0.47' '5.38' '5.32' '5.65' '1.87' '0.13'\n",
      " '3.12' '0.36' '0.11' '4.35' '0.65' '0.07' '0.08' '0.49' '0.3' '2.66'\n",
      " '2.69' '0.48' '0.38' '5.33' '1.91' '3.96' '3.1' '1.1' '1.2' '0.14' '2.54'\n",
      " '2.14' '0.81' '2.12' '0.44' '3.15' '1.25' '0.04' '0.0' '2.47' '2.23'\n",
      " '1.69' '0.01' '3.0' '0.02' '4.39' '1.98' '0.1' '3.81' '0.05' '2.49'\n",
      " '1.58' '3.14' '2.73' '0.66' '0.22' '3.63' '1.45' '1.31' '2.43' '0.7'\n",
      " '0.35' '1.4' '0.6' '2.26' '1.42' '1.28' '1.39' '0.87' '0.17' '0.94'\n",
      " '0.19' '0.21' '1.6' '0.16' '1.03' '0.25' '2.06' '1.49' '1.29' '0.09'\n",
      " '2.87' '0.03' '0.78' '0.83' '2.33' '2.02' '1.36' '1.81' '1.97' '0.91'\n",
      " '0.99' '0.95' '2.0' '1.01' '2.78' '2.11' '1.09' '0.2' '1.9' '1.27' '3.61'\n",
      " '1.57' '2.2' '1.7' '1.08' '0.15' '1.11' '0.29' '1.54' '0.12' '0.89'\n",
      " '4.87' '1.52' '1.32' '1.15' '4.1' '1.46' '0.46' '1.05' '1.61' '0.26'\n",
      " '1.38' '0.62' '0.73' '0.57' '0.31' '0.58' '1.76' '2.1' '0.9' '0.51'\n",
      " '0.64' '2.46' '0.23' '0.37' '0.92' '1.07' '2.62' '1.12' '0.54' '0.27'\n",
      " '0.59' '3.67' '0.55' '1.75' '3.44' '0.33' '2.55' '2.32' '2.79' '0.74'\n",
      " '3.18' '0.82' '0.77' '0.4' '2.35' '3.19' '0.8' '0.76' '3.03' '0.88'\n",
      " 'unknown' '0.45' '1.16' '0.34' '1.19' '1.13' '2.13' '1.96' '0.71' '1.04'\n",
      " '2.68' '0.68' '2.65' '0.96' '2.41' '0.52' '0.18' '1.34' '1.48' '2.34'\n",
      " '1.06' '1.21' '2.29' '1.63' '2.05' '2.17' '1.56' '1.35' '1.33' '0.63'\n",
      " '0.79' '0.75' '0.53' '1.53' '1.3' '0.39' '0.69' '0.42' '0.93' '0.56'\n",
      " '0.84' '0.72' '0.32' '1.71' '1.65' '0.61' '1.51' '1.5' '1.44' '1.24'\n",
      " '1.18' '1.37' '1.0' '1.26' '0.85' '0.43' '0.67' '1.14' '0.86' '1.17'\n",
      " '0.5' '1.02' '0.97'] ['8' nan '8.3' '8.5' '6.6' '8.4' '8.6' '7.7' '6.3' '7.4' '8.2' '9' '7.9'\n",
      " '8.1' '8.7' '7.1' '3.4' '5.3' '4.8' '3.2' '8.9' '6.4' '7.8' '7.5' '2.6'\n",
      " '7.2' '9.2' '7' '7.3' '4.3' '7.6' '5.7' '5' '9.1' '6.5' 'tbd' '8.8' '6.9'\n",
      " '9.4' '6.8' '6.1' '6.7' '5.4' '4' '4.9' '4.5' '9.3' '6.2' '4.2' '6' '3.7'\n",
      " '4.1' '5.8' '5.6' '5.5' '4.4' '4.6' '5.9' '3.9' '3.1' '2.9' '5.2' '3.3'\n",
      " '4.7' '5.1' '3.5' '2.5' '1.9' '3' '2.7' '2.2' '2' '9.5' '2.1' '3.6' '2.8'\n",
      " '1.8' '3.8' '0' '1.6' '9.6' '2.4' '1.7' '1.1' '0.3' '1.5' '0.7' '1.2'\n",
      " '2.3' '0.5' '1.3' '0.2' '0.6' '1.4' '0.9' '1' '9.7']\n"
     ]
    }
   ],
   "source": [
    "# выводим уникальные значения для eu_sales и jp_sales, user_score:\n",
    "unique_eu_sales= new_games['eu_sales'].unique()\n",
    "unique_jp_sales = new_games['jp_sales'].unique()\n",
    "unique_user_score = new_games['user_score'].unique()\n",
    "print(unique_eu_sales, unique_jp_sales, unique_user_score)"
   ]
  },
  {
   "cell_type": "markdown",
   "id": "3421b1b0",
   "metadata": {},
   "source": [
    " Выше были выгружены уникальные значения для столбцов: 'eu_sales' и 'jp_sales', 'user_score'. Судя по всему у данных столбцов тип данных object из-за того что в данных столбцах помимо числовых значений присутвуют и строчные значения. Именно object позволяет хранить смешанный тип данных"
   ]
  },
  {
   "cell_type": "code",
   "execution_count": 6,
   "id": "8adaac81",
   "metadata": {
    "id": "8adaac81"
   },
   "outputs": [
    {
     "data": {
      "text/plain": [
       "eu_sales            float64\n",
       "jp_sales            float64\n",
       "user_score          float64\n",
       "year_of_release     float64\n",
       "rating             category\n",
       "dtype: object"
      ]
     },
     "execution_count": 6,
     "metadata": {},
     "output_type": "execute_result"
    }
   ],
   "source": [
    "# ниже преобразовываем некорректные типы данных, это необходимо для дальнейшей работы с данными \n",
    "new_games['eu_sales'] = pd.to_numeric(new_games['eu_sales'], errors='coerce') \n",
    "new_games['jp_sales'] = pd.to_numeric(new_games['jp_sales'], errors='coerce')\n",
    "new_games['user_score'] = pd.to_numeric(new_games['user_score'], errors='coerce')\n",
    "new_games['year_of_release'] = pd.to_numeric(new_games['year_of_release'], errors='coerce')\n",
    "new_games['rating'] = new_games['rating'].astype('category')\n",
    "new_games[['eu_sales', 'jp_sales', 'user_score', 'year_of_release', 'rating']].dtypes\n"
   ]
  },
  {
   "cell_type": "markdown",
   "id": "2360d2e4",
   "metadata": {
    "id": "9e53cff4"
   },
   "source": [
    "Если преобразование типов данных не сделать. то и корректно работать с ними не получится, соответственно провести нормальный анализ данных тожже не получится. Я думаю причиной неккоректных типов данных является в основном человеческий фактор и невнимательность к данным."
   ]
  },
  {
   "cell_type": "markdown",
   "id": "63378edf",
   "metadata": {
    "id": "63378edf"
   },
   "source": [
    "- В числовых столбцах могут встретиться строковые значения, например `unknown` или другие. Приводите такие столбцы к числовому типу данных, заменив строковые значения на пропуски."
   ]
  },
  {
   "cell_type": "markdown",
   "id": "b39893cb",
   "metadata": {
    "id": "b39893cb"
   },
   "source": [
    "### 2.3. Наличие пропусков в данных\n",
    "\n",
    "- Посчитайте количество пропусков в каждом столбце в абсолютных и относительных значениях.\n"
   ]
  },
  {
   "cell_type": "code",
   "execution_count": 7,
   "id": "0f1c91a8",
   "metadata": {
    "id": "0f1c91a8",
    "scrolled": true
   },
   "outputs": [
    {
     "data": {
      "text/plain": [
       "name                  2\n",
       "platform              0\n",
       "year_of_release     275\n",
       "genre                 2\n",
       "na_sales              0\n",
       "eu_sales              6\n",
       "jp_sales              4\n",
       "other_sales           0\n",
       "critic_score       8714\n",
       "user_score         9268\n",
       "rating             6871\n",
       "dtype: int64"
      ]
     },
     "execution_count": 7,
     "metadata": {},
     "output_type": "execute_result"
    }
   ],
   "source": [
    "# Выводим количество пропущенных строк в датафрейме\n",
    "new_games.isna().sum()\n"
   ]
  },
  {
   "cell_type": "code",
   "execution_count": 8,
   "id": "a30bbbd4",
   "metadata": {},
   "outputs": [
    {
     "data": {
      "text/plain": [
       "name                0.011795\n",
       "platform            0.000000\n",
       "year_of_release     1.621845\n",
       "genre               0.011795\n",
       "na_sales            0.000000\n",
       "eu_sales            0.035386\n",
       "jp_sales            0.023590\n",
       "other_sales         0.000000\n",
       "critic_score       51.391838\n",
       "user_score         54.659118\n",
       "rating             40.522529\n",
       "dtype: float64"
      ]
     },
     "execution_count": 8,
     "metadata": {},
     "output_type": "execute_result"
    }
   ],
   "source": [
    "# Подсчитываем процент строк с пропусками\n",
    "new_games.isna().sum() / len(new_games) * 100"
   ]
  },
  {
   "cell_type": "markdown",
   "id": "cf796f51",
   "metadata": {
    "id": "cf796f51"
   },
   "source": [
    "- Изучите данные с пропущенными значениями. Напишите промежуточный вывод: для каких столбцов характерны пропуски и сколько их. Предположите, почему пропуски могли возникнуть. Укажите, какие действия с этими данными можно сделать и почему.\n"
   ]
  },
  {
   "cell_type": "markdown",
   "id": "9557ec19",
   "metadata": {
    "id": "bd69e642"
   },
   "source": [
    "Как можно увидеть достаточно большой % пропусков в столбце `user_score`(оценка пользователей), более 54% смею предположить что далеко не все пользователи оставляли оценки отсюда и пропуски, с одной стороны это вполне нормально когда пользователи не дают обратную связь в виде оценок, но с другой стороны процент пропусков уж очень велик, заменим пропуски на значение `-1`, такой оценки нет и быть не может, но тип данных тот же. Так же пропуски присутствуют в:\n",
    "`EU sales` и `JP sales`, продажи в Европе и Японии соответственно, пропусков менее 0,1 % это не кретично, думаю что с данными пропусками можно ничего не делать, но всё же я решил их заменить на среднее значение, используя метод `apply` + `функция`, предпалагаю что пропуски могут быть связаны с тем что игры просто не продавались в данных регионах или же доля продаж была очень мала и в статистику просто не попала.\n",
    "`rating` - на самом деле много пропусков (6871) порядка 40%, но опять же рейтинг относится к категориальному типу данных с ограниченным диапазоном и как мне кажется заменять данные пропуски на какие-либо значения не целесообразно, как раз замена здесть и может исказить объективную информацию, пропуски в данном столбце как мне кажется это абсолютно нормальное явление, т.к. даалеко не всем играм ставятся оценки, какие-то из игр особенно малобюджетных проходят мимо внимания критиков.\n",
    "`year_of_release` - год выхода игры, 275 пропусков, по факту просто нет данных о выходе тех или иных игр, предполагаю что это больше относится к малобюджетным играм, информации о которых не так много. Тут в принципе пропуски можно заменит на 0, данное значение по факту ни на что не повлияет и сразу будет понятно что это пропуск. В столбцах `name` и `genre` так же есть пропуски, но их количество не значительно порядка 0,1%, поэтому мы их просто удалим. Что касается пропусков в столбце `genre` то это вр=полне обяснимое явление не всегда в играх указывается жанр или просто не понятно к какому жанру отнести игру. Пропуски по столбцу `name` скорее всего относятся к очень малоизвестным играм."
   ]
  },
  {
   "cell_type": "markdown",
   "id": "1131e3e9",
   "metadata": {},
   "source": [
    "Как мне кажется '-1'  это же вроде норм заглушка-индикатор, отрицательных значений в столбцах нет и разу будет понятно что это пропуск, а при подсчётах отрицательные значения всегда можно убрать. Ну это как мне кажется, поправь меня если ошибаюсь. Спасибо."
   ]
  },
  {
   "cell_type": "code",
   "execution_count": 9,
   "id": "b5764aaa",
   "metadata": {},
   "outputs": [
    {
     "name": "stdout",
     "output_type": "stream",
     "text": [
      "Минимальная оценка пользователя: 0.0\n",
      "Максимальная оценка пользователя: 9.7\n",
      "Минимальная оценка критиков: 13.0\n",
      "Максимальная оценка критиков: 98.0\n"
     ]
    }
   ],
   "source": [
    "# Проверяем максимальные и минимальные значения для 'user_score' и 'critic_score', для дальнейшего применения заглушки '-1'\n",
    "min_user_score = new_games['user_score'].min()\n",
    "max_user_score = new_games['user_score'].max()\n",
    "min_critic_score = new_games['critic_score'].min()\n",
    "max_critic_score = new_games['critic_score'].max()\n",
    "print('Минимальная оценка пользователя:', min_user_score)\n",
    "print('Максимальная оценка пользователя:', max_user_score) \n",
    "print('Минимальная оценка критиков:', min_critic_score)\n",
    "print('Максимальная оценка критиков:', max_critic_score) "
   ]
  },
  {
   "cell_type": "markdown",
   "id": "6ff16621",
   "metadata": {},
   "source": [
    "Исходя из данных выше можно сделать вывод о том что заглушка-индикатор `-1` отлично подходит для обоих столбцов 'user_score' и 'critic_score'"
   ]
  },
  {
   "cell_type": "code",
   "execution_count": 10,
   "id": "b6965b19",
   "metadata": {
    "id": "b6965b19"
   },
   "outputs": [
    {
     "data": {
      "text/plain": [
       "name                0.000000\n",
       "platform            0.000000\n",
       "year_of_release     0.000000\n",
       "genre               0.000000\n",
       "na_sales            0.000000\n",
       "eu_sales            0.035390\n",
       "jp_sales            0.023593\n",
       "other_sales         0.000000\n",
       "critic_score        0.000000\n",
       "user_score          0.000000\n",
       "rating             40.515513\n",
       "dtype: float64"
      ]
     },
     "execution_count": 10,
     "metadata": {},
     "output_type": "execute_result"
    }
   ],
   "source": [
    "new_games['user_score'] = new_games['user_score'].fillna(-1) # меняем пропуски в столбце оценка пользователей на значение -1\n",
    "new_games['critic_score'] = new_games['critic_score'].fillna(-1) #  так же меняем на значение -1, такой оценки по факту нет, сразу будет понятно что это пропуск\n",
    "new_games['year_of_release'] = new_games['year_of_release'].fillna(0) # пропуски в годе выхода заменим на 0\n",
    "new_games = new_games.dropna(subset=['name', 'genre']) # удаляем пропуски в столбцах имя и жанр\n",
    "new_games.isna().sum() / len(new_games) * 100"
   ]
  },
  {
   "cell_type": "code",
   "execution_count": 11,
   "id": "cc2d1374",
   "metadata": {
    "id": "cc2d1374"
   },
   "outputs": [
    {
     "name": "stdout",
     "output_type": "stream",
     "text": [
      "   eu_sales  jp_sales\n",
      "0     28.96      3.77\n",
      "1      3.58      6.81\n",
      "2     12.76      3.79\n",
      "3     10.93      3.28\n",
      "4      8.89     10.22\n"
     ]
    }
   ],
   "source": [
    "for column in ['eu_sales', 'jp_sales']:\n",
    "    new_games[column] = new_games[column].fillna(\n",
    "        new_games.groupby(['platform', 'year_of_release'])[column].transform('mean')\n",
    "       )\n",
    "print(new_games[['eu_sales', 'jp_sales']].head())"
   ]
  },
  {
   "cell_type": "code",
   "execution_count": 12,
   "id": "ae8cdda2",
   "metadata": {},
   "outputs": [
    {
     "name": "stdout",
     "output_type": "stream",
     "text": [
      "<class 'pandas.core.frame.DataFrame'>\n",
      "Int64Index: 16954 entries, 0 to 16955\n",
      "Data columns (total 11 columns):\n",
      " #   Column           Non-Null Count  Dtype   \n",
      "---  ------           --------------  -----   \n",
      " 0   name             16954 non-null  object  \n",
      " 1   platform         16954 non-null  object  \n",
      " 2   year_of_release  16954 non-null  float64 \n",
      " 3   genre            16954 non-null  object  \n",
      " 4   na_sales         16954 non-null  float64 \n",
      " 5   eu_sales         16954 non-null  float64 \n",
      " 6   jp_sales         16954 non-null  float64 \n",
      " 7   other_sales      16954 non-null  float64 \n",
      " 8   critic_score     16954 non-null  float64 \n",
      " 9   user_score       16954 non-null  float64 \n",
      " 10  rating           10085 non-null  category\n",
      "dtypes: category(1), float64(7), object(3)\n",
      "memory usage: 1.4+ MB\n"
     ]
    }
   ],
   "source": [
    "new_games.info()"
   ]
  },
  {
   "cell_type": "code",
   "execution_count": 13,
   "id": "1a6e3473",
   "metadata": {},
   "outputs": [],
   "source": [
    "new_games['year_of_release'] = new_games['year_of_release'].astype('int64') # приводим год к целочисленному значению."
   ]
  },
  {
   "cell_type": "code",
   "execution_count": 14,
   "id": "36b68547",
   "metadata": {},
   "outputs": [
    {
     "name": "stdout",
     "output_type": "stream",
     "text": [
      "<class 'pandas.core.frame.DataFrame'>\n",
      "Int64Index: 16954 entries, 0 to 16955\n",
      "Data columns (total 11 columns):\n",
      " #   Column           Non-Null Count  Dtype   \n",
      "---  ------           --------------  -----   \n",
      " 0   name             16954 non-null  object  \n",
      " 1   platform         16954 non-null  object  \n",
      " 2   year_of_release  16954 non-null  int64   \n",
      " 3   genre            16954 non-null  object  \n",
      " 4   na_sales         16954 non-null  float64 \n",
      " 5   eu_sales         16954 non-null  float64 \n",
      " 6   jp_sales         16954 non-null  float64 \n",
      " 7   other_sales      16954 non-null  float64 \n",
      " 8   critic_score     16954 non-null  float64 \n",
      " 9   user_score       16954 non-null  float64 \n",
      " 10  rating           10085 non-null  category\n",
      "dtypes: category(1), float64(6), int64(1), object(3)\n",
      "memory usage: 1.4+ MB\n"
     ]
    }
   ],
   "source": [
    "new_games.info()"
   ]
  },
  {
   "cell_type": "markdown",
   "id": "f508e103",
   "metadata": {},
   "source": [
    "<img src=\"https://upload.wikimedia.org/wikipedia/commons/b/ba/Warning_sign_4.0.png\" align=left width=44, heigth=33>\n",
    "<div class=\"alert alert-warning\">\n",
    "Советую проверить себя, например вывести info() и убедиться, что пропуски обработаны корректно.\n",
    "\n",
    "</div>"
   ]
  },
  {
   "cell_type": "markdown",
   "id": "bbbe3bda",
   "metadata": {
    "id": "bbbe3bda"
   },
   "source": [
    "- Обработайте пропущенные значения. Для каждого случая вы можете выбрать оптимальный, на ваш взгляд, вариант: заменить на определённое значение, оставить как есть или удалить.\n",
    "- Если вы решите заменить пропуски на значение-индикатор, то убедитесь, что предложенное значение не может быть использовано в данных.\n",
    "- Если вы нашли пропуски в данных с количеством проданных копий игры в том или ином регионе, их можно заменить на среднее значение в зависимости от названия платформы и года выхода игры."
   ]
  },
  {
   "cell_type": "markdown",
   "id": "a63363fd",
   "metadata": {
    "id": "a63363fd"
   },
   "source": [
    "### 2.4. Явные и неявные дубликаты в данных\n",
    "\n",
    "- Изучите уникальные значения в категориальных данных, например с названиями жанра игры, платформы, рейтинга и года выпуска. Проверьте, встречаются ли среди данных неявные дубликаты, связанные с опечатками или разным способом написания.\n",
    "- При необходимости проведите нормализацию данных с текстовыми значениями. Названия или жанры игр можно привести к нижнему регистру, а названия рейтинга — к верхнему."
   ]
  },
  {
   "cell_type": "code",
   "execution_count": 15,
   "id": "491c9c39",
   "metadata": {
    "id": "491c9c39"
   },
   "outputs": [
    {
     "name": "stdout",
     "output_type": "stream",
     "text": [
      "['Wii Sports' 'Super Mario Bros.' 'Mario Kart Wii' ...\n",
      " 'Woody Woodpecker in Crazy Castle 5' 'LMA Manager 2007'\n",
      " 'Haitaka no Psychedelica'] ['Sports' 'Platform' 'Racing' 'Role-Playing' 'Puzzle' 'Misc' 'Shooter'\n",
      " 'Simulation' 'Action' 'Fighting' 'Adventure' 'Strategy' 'MISC'\n",
      " 'ROLE-PLAYING' 'RACING' 'ACTION' 'SHOOTER' 'FIGHTING' 'SPORTS' 'PLATFORM'\n",
      " 'ADVENTURE' 'SIMULATION' 'PUZZLE' 'STRATEGY'] ['Wii' 'NES' 'GB' 'DS' 'X360' 'PS3' 'PS2' 'SNES' 'GBA' 'PS4' '3DS' 'N64'\n",
      " 'PS' 'XB' 'PC' '2600' 'PSP' 'XOne' 'WiiU' 'GC' 'GEN' 'DC' 'PSV' 'SAT'\n",
      " 'SCD' 'WS' 'NG' 'TG16' '3DO' 'GG' 'PCFX'] ['E', NaN, 'M', 'T', 'E10+', 'K-A', 'AO', 'EC', 'RP']\n",
      "Categories (8, object): ['E', 'M', 'T', 'E10+', 'K-A', 'AO', 'EC', 'RP'] [2006 1985 2008 2009 1996 1989 1984 2005 1999 2007 2010 2013 2004 1990\n",
      " 1988 2002 2001 2011 1998 2015 2012 2014 1992 1997 1993 1994 1982 2016\n",
      " 2003 1986 2000    0 1995 1991 1981 1987 1980 1983]\n"
     ]
    }
   ],
   "source": [
    "# выводим уникальные значения:\n",
    "unique_name = new_games['name'].unique()\n",
    "unique_genre = new_games['genre'].unique()\n",
    "unique_platform = new_games['platform'].unique()\n",
    "unique_rating = new_games['rating'].unique()\n",
    "unique_year_of_release = new_games['year_of_release'].unique()\n",
    "print(unique_name, unique_genre, unique_platform, unique_rating, unique_year_of_release)"
   ]
  },
  {
   "cell_type": "markdown",
   "id": "f1830bde",
   "metadata": {
    "id": "f1627198"
   },
   "source": [
    "Как видно из данных выше неявные дубликаты встречаются в столбце жанр игры, как пример 'ADVENTURE' и 'Adventure', 'Action' и 'ACTION', 'Role-Playing' и 'ROLE-PLAYING' понятно что это одни и те же жанры просто написаны в разных регистрах. Логично привести данные к единому регистру в соответствующих столбцах и соответственно неявные дубликаты пропадут."
   ]
  },
  {
   "cell_type": "code",
   "execution_count": 16,
   "id": "a0cac80c",
   "metadata": {
    "id": "a0cac80c",
    "scrolled": true
   },
   "outputs": [
    {
     "data": {
      "text/html": [
       "<div>\n",
       "<style scoped>\n",
       "    .dataframe tbody tr th:only-of-type {\n",
       "        vertical-align: middle;\n",
       "    }\n",
       "\n",
       "    .dataframe tbody tr th {\n",
       "        vertical-align: top;\n",
       "    }\n",
       "\n",
       "    .dataframe thead th {\n",
       "        text-align: right;\n",
       "    }\n",
       "</style>\n",
       "<table border=\"1\" class=\"dataframe\">\n",
       "  <thead>\n",
       "    <tr style=\"text-align: right;\">\n",
       "      <th></th>\n",
       "      <th>genre</th>\n",
       "      <th>rating</th>\n",
       "    </tr>\n",
       "  </thead>\n",
       "  <tbody>\n",
       "    <tr>\n",
       "      <th>0</th>\n",
       "      <td>sports</td>\n",
       "      <td>E</td>\n",
       "    </tr>\n",
       "    <tr>\n",
       "      <th>1</th>\n",
       "      <td>platform</td>\n",
       "      <td>NaN</td>\n",
       "    </tr>\n",
       "    <tr>\n",
       "      <th>2</th>\n",
       "      <td>racing</td>\n",
       "      <td>E</td>\n",
       "    </tr>\n",
       "    <tr>\n",
       "      <th>3</th>\n",
       "      <td>sports</td>\n",
       "      <td>E</td>\n",
       "    </tr>\n",
       "    <tr>\n",
       "      <th>4</th>\n",
       "      <td>role-playing</td>\n",
       "      <td>NaN</td>\n",
       "    </tr>\n",
       "    <tr>\n",
       "      <th>...</th>\n",
       "      <td>...</td>\n",
       "      <td>...</td>\n",
       "    </tr>\n",
       "    <tr>\n",
       "      <th>16951</th>\n",
       "      <td>action</td>\n",
       "      <td>NaN</td>\n",
       "    </tr>\n",
       "    <tr>\n",
       "      <th>16952</th>\n",
       "      <td>sports</td>\n",
       "      <td>NaN</td>\n",
       "    </tr>\n",
       "    <tr>\n",
       "      <th>16953</th>\n",
       "      <td>adventure</td>\n",
       "      <td>NaN</td>\n",
       "    </tr>\n",
       "    <tr>\n",
       "      <th>16954</th>\n",
       "      <td>platform</td>\n",
       "      <td>NaN</td>\n",
       "    </tr>\n",
       "    <tr>\n",
       "      <th>16955</th>\n",
       "      <td>simulation</td>\n",
       "      <td>NaN</td>\n",
       "    </tr>\n",
       "  </tbody>\n",
       "</table>\n",
       "<p>16954 rows × 2 columns</p>\n",
       "</div>"
      ],
      "text/plain": [
       "              genre rating\n",
       "0            sports      E\n",
       "1          platform    NaN\n",
       "2            racing      E\n",
       "3            sports      E\n",
       "4      role-playing    NaN\n",
       "...             ...    ...\n",
       "16951        action    NaN\n",
       "16952        sports    NaN\n",
       "16953     adventure    NaN\n",
       "16954      platform    NaN\n",
       "16955    simulation    NaN\n",
       "\n",
       "[16954 rows x 2 columns]"
      ]
     },
     "metadata": {},
     "output_type": "display_data"
    }
   ],
   "source": [
    "# данные в зависимости от столбцов к единым регистрам\n",
    "new_games['genre'] = new_games['genre'].str.lower()\n",
    "new_games['rating'] = new_games['rating'].str.upper()\n",
    "display (new_games[['genre', 'rating']])"
   ]
  },
  {
   "cell_type": "markdown",
   "id": "fc3d3db4",
   "metadata": {
    "id": "fc3d3db4"
   },
   "source": [
    "- После того как нормализуете данные и устраните неявные дубликаты, проверьте наличие явных дубликатов в данных."
   ]
  },
  {
   "cell_type": "code",
   "execution_count": 17,
   "id": "29e57705",
   "metadata": {
    "id": "29e57705"
   },
   "outputs": [
    {
     "data": {
      "text/plain": [
       "0        False\n",
       "1        False\n",
       "2        False\n",
       "3        False\n",
       "4        False\n",
       "         ...  \n",
       "16951    False\n",
       "16952    False\n",
       "16953    False\n",
       "16954    False\n",
       "16955    False\n",
       "Length: 16954, dtype: bool"
      ]
     },
     "metadata": {},
     "output_type": "display_data"
    }
   ],
   "source": [
    "# проверяем строки на явные дубликаты, должно быть значение 'True', но проверять каждую строку это долго\n",
    "duplicated_rows = new_games.duplicated()\n",
    "display(duplicated_rows)"
   ]
  },
  {
   "cell_type": "markdown",
   "id": "54616bae",
   "metadata": {
    "id": "54616bae"
   },
   "source": [
    "- Напишите промежуточный вывод: укажите количество найденных дубликатов и действия по их обработке."
   ]
  },
  {
   "cell_type": "code",
   "execution_count": 18,
   "id": "8548f894",
   "metadata": {
    "id": "8548f894"
   },
   "outputs": [
    {
     "data": {
      "text/plain": [
       "241"
      ]
     },
     "execution_count": 18,
     "metadata": {},
     "output_type": "execute_result"
    }
   ],
   "source": [
    "# подсчитаем сумму строк с явным дублированием, получилось 241 строка\n",
    "new_games.duplicated().sum() "
   ]
  },
  {
   "cell_type": "code",
   "execution_count": 19,
   "id": "327e55bb",
   "metadata": {
    "id": "327e55bb"
   },
   "outputs": [
    {
     "name": "stderr",
     "output_type": "stream",
     "text": [
      "/tmp/ipykernel_47/2778375482.py:2: UserWarning: Boolean Series key will be reindexed to match DataFrame index.\n",
      "  duplicates = new_games[new_games_sorted.duplicated(keep=False)]\n"
     ]
    },
    {
     "data": {
      "text/html": [
       "<div>\n",
       "<style scoped>\n",
       "    .dataframe tbody tr th:only-of-type {\n",
       "        vertical-align: middle;\n",
       "    }\n",
       "\n",
       "    .dataframe tbody tr th {\n",
       "        vertical-align: top;\n",
       "    }\n",
       "\n",
       "    .dataframe thead th {\n",
       "        text-align: right;\n",
       "    }\n",
       "</style>\n",
       "<table border=\"1\" class=\"dataframe\">\n",
       "  <thead>\n",
       "    <tr style=\"text-align: right;\">\n",
       "      <th></th>\n",
       "      <th>name</th>\n",
       "      <th>platform</th>\n",
       "      <th>year_of_release</th>\n",
       "      <th>genre</th>\n",
       "      <th>na_sales</th>\n",
       "      <th>eu_sales</th>\n",
       "      <th>jp_sales</th>\n",
       "      <th>other_sales</th>\n",
       "      <th>critic_score</th>\n",
       "      <th>user_score</th>\n",
       "      <th>rating</th>\n",
       "    </tr>\n",
       "  </thead>\n",
       "  <tbody>\n",
       "    <tr>\n",
       "      <th>267</th>\n",
       "      <td>Batman: Arkham Asylum</td>\n",
       "      <td>PS3</td>\n",
       "      <td>2009</td>\n",
       "      <td>action</td>\n",
       "      <td>2.24</td>\n",
       "      <td>1.31</td>\n",
       "      <td>0.07</td>\n",
       "      <td>0.61</td>\n",
       "      <td>91.0</td>\n",
       "      <td>8.9</td>\n",
       "      <td>T</td>\n",
       "    </tr>\n",
       "    <tr>\n",
       "      <th>268</th>\n",
       "      <td>Batman: Arkham Asylum</td>\n",
       "      <td>PS3</td>\n",
       "      <td>2009</td>\n",
       "      <td>action</td>\n",
       "      <td>2.24</td>\n",
       "      <td>1.31</td>\n",
       "      <td>0.07</td>\n",
       "      <td>0.61</td>\n",
       "      <td>91.0</td>\n",
       "      <td>8.9</td>\n",
       "      <td>T</td>\n",
       "    </tr>\n",
       "    <tr>\n",
       "      <th>367</th>\n",
       "      <td>James Bond 007: Agent Under Fire</td>\n",
       "      <td>PS2</td>\n",
       "      <td>2001</td>\n",
       "      <td>shooter</td>\n",
       "      <td>1.90</td>\n",
       "      <td>1.13</td>\n",
       "      <td>0.10</td>\n",
       "      <td>0.41</td>\n",
       "      <td>72.0</td>\n",
       "      <td>7.9</td>\n",
       "      <td>T</td>\n",
       "    </tr>\n",
       "    <tr>\n",
       "      <th>368</th>\n",
       "      <td>James Bond 007: Agent Under Fire</td>\n",
       "      <td>PS2</td>\n",
       "      <td>2001</td>\n",
       "      <td>shooter</td>\n",
       "      <td>1.90</td>\n",
       "      <td>1.13</td>\n",
       "      <td>0.10</td>\n",
       "      <td>0.41</td>\n",
       "      <td>72.0</td>\n",
       "      <td>7.9</td>\n",
       "      <td>T</td>\n",
       "    </tr>\n",
       "    <tr>\n",
       "      <th>716</th>\n",
       "      <td>God of War: Ascension</td>\n",
       "      <td>PS3</td>\n",
       "      <td>2013</td>\n",
       "      <td>action</td>\n",
       "      <td>1.23</td>\n",
       "      <td>0.63</td>\n",
       "      <td>0.04</td>\n",
       "      <td>0.35</td>\n",
       "      <td>80.0</td>\n",
       "      <td>7.5</td>\n",
       "      <td>M</td>\n",
       "    </tr>\n",
       "    <tr>\n",
       "      <th>...</th>\n",
       "      <td>...</td>\n",
       "      <td>...</td>\n",
       "      <td>...</td>\n",
       "      <td>...</td>\n",
       "      <td>...</td>\n",
       "      <td>...</td>\n",
       "      <td>...</td>\n",
       "      <td>...</td>\n",
       "      <td>...</td>\n",
       "      <td>...</td>\n",
       "      <td>...</td>\n",
       "    </tr>\n",
       "    <tr>\n",
       "      <th>16799</th>\n",
       "      <td>Transformers: Prime</td>\n",
       "      <td>Wii</td>\n",
       "      <td>2012</td>\n",
       "      <td>action</td>\n",
       "      <td>0.00</td>\n",
       "      <td>0.01</td>\n",
       "      <td>0.00</td>\n",
       "      <td>0.00</td>\n",
       "      <td>-1.0</td>\n",
       "      <td>-1.0</td>\n",
       "      <td>NaN</td>\n",
       "    </tr>\n",
       "    <tr>\n",
       "      <th>16911</th>\n",
       "      <td>Metal Gear Solid V: The Definitive Experience</td>\n",
       "      <td>XOne</td>\n",
       "      <td>2016</td>\n",
       "      <td>action</td>\n",
       "      <td>0.01</td>\n",
       "      <td>0.00</td>\n",
       "      <td>0.00</td>\n",
       "      <td>0.00</td>\n",
       "      <td>-1.0</td>\n",
       "      <td>-1.0</td>\n",
       "      <td>M</td>\n",
       "    </tr>\n",
       "    <tr>\n",
       "      <th>16912</th>\n",
       "      <td>Metal Gear Solid V: The Definitive Experience</td>\n",
       "      <td>XOne</td>\n",
       "      <td>2016</td>\n",
       "      <td>action</td>\n",
       "      <td>0.01</td>\n",
       "      <td>0.00</td>\n",
       "      <td>0.00</td>\n",
       "      <td>0.00</td>\n",
       "      <td>-1.0</td>\n",
       "      <td>-1.0</td>\n",
       "      <td>M</td>\n",
       "    </tr>\n",
       "    <tr>\n",
       "      <th>16939</th>\n",
       "      <td>The Longest 5 Minutes</td>\n",
       "      <td>PSV</td>\n",
       "      <td>2016</td>\n",
       "      <td>action</td>\n",
       "      <td>0.00</td>\n",
       "      <td>0.00</td>\n",
       "      <td>0.01</td>\n",
       "      <td>0.00</td>\n",
       "      <td>-1.0</td>\n",
       "      <td>-1.0</td>\n",
       "      <td>NaN</td>\n",
       "    </tr>\n",
       "    <tr>\n",
       "      <th>16940</th>\n",
       "      <td>The Longest 5 Minutes</td>\n",
       "      <td>PSV</td>\n",
       "      <td>2016</td>\n",
       "      <td>action</td>\n",
       "      <td>0.00</td>\n",
       "      <td>0.00</td>\n",
       "      <td>0.01</td>\n",
       "      <td>0.00</td>\n",
       "      <td>-1.0</td>\n",
       "      <td>-1.0</td>\n",
       "      <td>NaN</td>\n",
       "    </tr>\n",
       "  </tbody>\n",
       "</table>\n",
       "<p>482 rows × 11 columns</p>\n",
       "</div>"
      ],
      "text/plain": [
       "                                                name platform  \\\n",
       "267                            Batman: Arkham Asylum      PS3   \n",
       "268                            Batman: Arkham Asylum      PS3   \n",
       "367                 James Bond 007: Agent Under Fire      PS2   \n",
       "368                 James Bond 007: Agent Under Fire      PS2   \n",
       "716                            God of War: Ascension      PS3   \n",
       "...                                              ...      ...   \n",
       "16799                            Transformers: Prime      Wii   \n",
       "16911  Metal Gear Solid V: The Definitive Experience     XOne   \n",
       "16912  Metal Gear Solid V: The Definitive Experience     XOne   \n",
       "16939                          The Longest 5 Minutes      PSV   \n",
       "16940                          The Longest 5 Minutes      PSV   \n",
       "\n",
       "       year_of_release    genre  na_sales  eu_sales  jp_sales  other_sales  \\\n",
       "267               2009   action      2.24      1.31      0.07         0.61   \n",
       "268               2009   action      2.24      1.31      0.07         0.61   \n",
       "367               2001  shooter      1.90      1.13      0.10         0.41   \n",
       "368               2001  shooter      1.90      1.13      0.10         0.41   \n",
       "716               2013   action      1.23      0.63      0.04         0.35   \n",
       "...                ...      ...       ...       ...       ...          ...   \n",
       "16799             2012   action      0.00      0.01      0.00         0.00   \n",
       "16911             2016   action      0.01      0.00      0.00         0.00   \n",
       "16912             2016   action      0.01      0.00      0.00         0.00   \n",
       "16939             2016   action      0.00      0.00      0.01         0.00   \n",
       "16940             2016   action      0.00      0.00      0.01         0.00   \n",
       "\n",
       "       critic_score  user_score rating  \n",
       "267            91.0         8.9      T  \n",
       "268            91.0         8.9      T  \n",
       "367            72.0         7.9      T  \n",
       "368            72.0         7.9      T  \n",
       "716            80.0         7.5      M  \n",
       "...             ...         ...    ...  \n",
       "16799          -1.0        -1.0    NaN  \n",
       "16911          -1.0        -1.0      M  \n",
       "16912          -1.0        -1.0      M  \n",
       "16939          -1.0        -1.0    NaN  \n",
       "16940          -1.0        -1.0    NaN  \n",
       "\n",
       "[482 rows x 11 columns]"
      ]
     },
     "metadata": {},
     "output_type": "display_data"
    }
   ],
   "source": [
    "new_games_sorted= new_games.sort_values(by=new_games.columns.tolist())\n",
    "duplicates = new_games[new_games_sorted.duplicated(keep=False)]\n",
    "display(duplicates)"
   ]
  },
  {
   "cell_type": "code",
   "execution_count": 20,
   "id": "0814c721",
   "metadata": {
    "id": "0814c721",
    "scrolled": true
   },
   "outputs": [
    {
     "name": "stdout",
     "output_type": "stream",
     "text": [
      "Количество строк до удаления дубликатов: 16954\n",
      "Количество строк после удаления дубликатов: 16713\n",
      "Количество удаленных строк: 241\n",
      "Доля (%) удаленных строк: 1.42 %\n"
     ]
    }
   ],
   "source": [
    "# Сохраняем количество строк до удаления дубликатов\n",
    "initial_row_count = new_games.shape[0]\n",
    "# Сортируем датафрейм по всем столбцам\n",
    "new_games = new_games.sort_values(by=list(new_games.columns))\n",
    "# Удаляем дубликаты\n",
    "new_games = new_games.drop_duplicates()\n",
    "# Сохраняем количество строк после удаления дубликатов\n",
    "final_row_count = new_games.shape[0]\n",
    "count_delete = initial_row_count - final_row_count\n",
    "share_final_row_count = round((count_delete / initial_row_count)*100, 2)   \n",
    "print(f\"Количество строк до удаления дубликатов: {initial_row_count}\")\n",
    "print(f\"Количество строк после удаления дубликатов: {final_row_count}\")\n",
    "print(f\"Количество удаленных строк: {count_delete}\")\n",
    "print(f\"Доля (%) удаленных строк: {share_final_row_count} %\")"
   ]
  },
  {
   "cell_type": "markdown",
   "id": "72645ae9",
   "metadata": {
    "id": "72645ae9"
   },
   "source": [
    "- В процессе подготовки данных вы могли что-либо удалять, например строки с пропусками или ошибками, дубликаты и прочее. В этом случае посчитайте количество удалённых строк в абсолютном и относительном значениях."
   ]
  },
  {
   "cell_type": "markdown",
   "id": "47613d75",
   "metadata": {
    "id": "47613d75"
   },
   "source": [
    "- После проведения предобработки данных напишите общий промежуточный вывод."
   ]
  },
  {
   "cell_type": "markdown",
   "id": "6f588e29",
   "metadata": {
    "id": "12a69dba"
   },
   "source": [
    "Итак типы данных приведены в порядок, пропуски заменены там где это возможно, неявные дубликаты так же устранены и так же удалены строки с явными дубликатами, в целом доля удаленных строк составила 1,42% это достаточно немного и на общую картину анализа не повлияет."
   ]
  },
  {
   "cell_type": "code",
   "execution_count": null,
   "id": "a2c09ca7",
   "metadata": {
    "id": "a2c09ca7"
   },
   "outputs": [],
   "source": []
  },
  {
   "cell_type": "markdown",
   "id": "613f0eb0",
   "metadata": {
    "id": "613f0eb0"
   },
   "source": [
    "---\n",
    "\n",
    "## 3. Фильтрация данных\n",
    "\n",
    "Коллеги хотят изучить историю продаж игр в начале XXI века, и их интересует период с 2000 по 2013 год включительно. Отберите данные по этому показателю. Сохраните новый срез данных в отдельном датафрейме, например `df_actual`."
   ]
  },
  {
   "cell_type": "code",
   "execution_count": 21,
   "id": "44d7529f",
   "metadata": {
    "id": "44d7529f",
    "scrolled": true
   },
   "outputs": [
    {
     "data": {
      "text/html": [
       "<div>\n",
       "<style scoped>\n",
       "    .dataframe tbody tr th:only-of-type {\n",
       "        vertical-align: middle;\n",
       "    }\n",
       "\n",
       "    .dataframe tbody tr th {\n",
       "        vertical-align: top;\n",
       "    }\n",
       "\n",
       "    .dataframe thead th {\n",
       "        text-align: right;\n",
       "    }\n",
       "</style>\n",
       "<table border=\"1\" class=\"dataframe\">\n",
       "  <thead>\n",
       "    <tr style=\"text-align: right;\">\n",
       "      <th></th>\n",
       "      <th>name</th>\n",
       "      <th>platform</th>\n",
       "      <th>year_of_release</th>\n",
       "      <th>genre</th>\n",
       "      <th>na_sales</th>\n",
       "      <th>eu_sales</th>\n",
       "      <th>jp_sales</th>\n",
       "      <th>other_sales</th>\n",
       "      <th>critic_score</th>\n",
       "      <th>user_score</th>\n",
       "      <th>rating</th>\n",
       "    </tr>\n",
       "  </thead>\n",
       "  <tbody>\n",
       "    <tr>\n",
       "      <th>3394</th>\n",
       "      <td>Frozen: Olaf's Quest</td>\n",
       "      <td>3DS</td>\n",
       "      <td>2013</td>\n",
       "      <td>platform</td>\n",
       "      <td>0.27</td>\n",
       "      <td>0.27</td>\n",
       "      <td>0.00</td>\n",
       "      <td>0.05</td>\n",
       "      <td>-1.0</td>\n",
       "      <td>-1.0</td>\n",
       "      <td>NaN</td>\n",
       "    </tr>\n",
       "    <tr>\n",
       "      <th>3906</th>\n",
       "      <td>Frozen: Olaf's Quest</td>\n",
       "      <td>DS</td>\n",
       "      <td>2013</td>\n",
       "      <td>platform</td>\n",
       "      <td>0.21</td>\n",
       "      <td>0.26</td>\n",
       "      <td>0.00</td>\n",
       "      <td>0.04</td>\n",
       "      <td>-1.0</td>\n",
       "      <td>-1.0</td>\n",
       "      <td>NaN</td>\n",
       "    </tr>\n",
       "    <tr>\n",
       "      <th>2478</th>\n",
       "      <td>Tales of Xillia 2</td>\n",
       "      <td>PS3</td>\n",
       "      <td>2012</td>\n",
       "      <td>role-playing</td>\n",
       "      <td>0.20</td>\n",
       "      <td>0.12</td>\n",
       "      <td>0.45</td>\n",
       "      <td>0.07</td>\n",
       "      <td>71.0</td>\n",
       "      <td>7.9</td>\n",
       "      <td>T</td>\n",
       "    </tr>\n",
       "    <tr>\n",
       "      <th>8460</th>\n",
       "      <td>.hack//G.U. Vol.1//Rebirth</td>\n",
       "      <td>PS2</td>\n",
       "      <td>2006</td>\n",
       "      <td>role-playing</td>\n",
       "      <td>0.00</td>\n",
       "      <td>0.00</td>\n",
       "      <td>0.17</td>\n",
       "      <td>0.00</td>\n",
       "      <td>-1.0</td>\n",
       "      <td>-1.0</td>\n",
       "      <td>NaN</td>\n",
       "    </tr>\n",
       "    <tr>\n",
       "      <th>7182</th>\n",
       "      <td>.hack//G.U. Vol.2//Reminisce</td>\n",
       "      <td>PS2</td>\n",
       "      <td>2006</td>\n",
       "      <td>role-playing</td>\n",
       "      <td>0.11</td>\n",
       "      <td>0.09</td>\n",
       "      <td>0.00</td>\n",
       "      <td>0.03</td>\n",
       "      <td>-1.0</td>\n",
       "      <td>-1.0</td>\n",
       "      <td>NaN</td>\n",
       "    </tr>\n",
       "  </tbody>\n",
       "</table>\n",
       "</div>"
      ],
      "text/plain": [
       "                              name platform  year_of_release         genre  \\\n",
       "3394          Frozen: Olaf's Quest      3DS             2013      platform   \n",
       "3906          Frozen: Olaf's Quest       DS             2013      platform   \n",
       "2478             Tales of Xillia 2      PS3             2012  role-playing   \n",
       "8460    .hack//G.U. Vol.1//Rebirth      PS2             2006  role-playing   \n",
       "7182  .hack//G.U. Vol.2//Reminisce      PS2             2006  role-playing   \n",
       "\n",
       "      na_sales  eu_sales  jp_sales  other_sales  critic_score  user_score  \\\n",
       "3394      0.27      0.27      0.00         0.05          -1.0        -1.0   \n",
       "3906      0.21      0.26      0.00         0.04          -1.0        -1.0   \n",
       "2478      0.20      0.12      0.45         0.07          71.0         7.9   \n",
       "8460      0.00      0.00      0.17         0.00          -1.0        -1.0   \n",
       "7182      0.11      0.09      0.00         0.03          -1.0        -1.0   \n",
       "\n",
       "     rating  \n",
       "3394    NaN  \n",
       "3906    NaN  \n",
       "2478      T  \n",
       "8460    NaN  \n",
       "7182    NaN  "
      ]
     },
     "metadata": {},
     "output_type": "display_data"
    }
   ],
   "source": [
    "# фильтруем данные и выводим информацию об играх за 2000-2013 года\n",
    "df_actual_game = new_games.loc[(new_games['year_of_release'] >= 2000) & (new_games['year_of_release'] <= 2013)] # для среза данных используем loc \n",
    "display(df_actual_game.head())"
   ]
  },
  {
   "cell_type": "code",
   "execution_count": 22,
   "id": "7b911290",
   "metadata": {},
   "outputs": [
    {
     "name": "stdout",
     "output_type": "stream",
     "text": [
      "<class 'pandas.core.frame.DataFrame'>\n",
      "Int64Index: 12781 entries, 3394 to 9260\n",
      "Data columns (total 11 columns):\n",
      " #   Column           Non-Null Count  Dtype  \n",
      "---  ------           --------------  -----  \n",
      " 0   name             12781 non-null  object \n",
      " 1   platform         12781 non-null  object \n",
      " 2   year_of_release  12781 non-null  int64  \n",
      " 3   genre            12781 non-null  object \n",
      " 4   na_sales         12781 non-null  float64\n",
      " 5   eu_sales         12781 non-null  float64\n",
      " 6   jp_sales         12781 non-null  float64\n",
      " 7   other_sales      12781 non-null  float64\n",
      " 8   critic_score     12781 non-null  float64\n",
      " 9   user_score       12781 non-null  float64\n",
      " 10  rating           8723 non-null   object \n",
      "dtypes: float64(6), int64(1), object(4)\n",
      "memory usage: 1.2+ MB\n"
     ]
    }
   ],
   "source": [
    "df_actual_game.info() # выводим информацию о новом датафрейме "
   ]
  },
  {
   "cell_type": "markdown",
   "id": "a6f10b01",
   "metadata": {
    "id": "a6f10b01"
   },
   "source": [
    "---\n",
    "\n",
    "## 4. Категоризация данных\n",
    "    \n",
    "Проведите категоризацию данных:\n",
    "- Разделите все игры по оценкам пользователей и выделите такие категории: высокая оценка (от 8 до 10 включительно), средняя оценка (от 3 до 8, не включая правую границу интервала) и низкая оценка (от 0 до 3, не включая правую границу интервала)."
   ]
  },
  {
   "cell_type": "code",
   "execution_count": 23,
   "id": "9b0ca0f2",
   "metadata": {
    "id": "9b0ca0f2"
   },
   "outputs": [
    {
     "name": "stderr",
     "output_type": "stream",
     "text": [
      "/tmp/ipykernel_47/3064997021.py:2: SettingWithCopyWarning: \n",
      "A value is trying to be set on a copy of a slice from a DataFrame.\n",
      "Try using .loc[row_indexer,col_indexer] = value instead\n",
      "\n",
      "See the caveats in the documentation: https://pandas.pydata.org/pandas-docs/stable/user_guide/indexing.html#returning-a-view-versus-a-copy\n",
      "  df_actual_game['user_score_category'] = pd.cut(df_actual_game['user_score'], bins=[-2, 0, 3, 8, 10], labels=[\"без оценки\", \"низкая оценка\", \"средняя оценка\", \"высокая оценка\"], right=False)\n"
     ]
    },
    {
     "data": {
      "text/html": [
       "<div>\n",
       "<style scoped>\n",
       "    .dataframe tbody tr th:only-of-type {\n",
       "        vertical-align: middle;\n",
       "    }\n",
       "\n",
       "    .dataframe tbody tr th {\n",
       "        vertical-align: top;\n",
       "    }\n",
       "\n",
       "    .dataframe thead th {\n",
       "        text-align: right;\n",
       "    }\n",
       "</style>\n",
       "<table border=\"1\" class=\"dataframe\">\n",
       "  <thead>\n",
       "    <tr style=\"text-align: right;\">\n",
       "      <th></th>\n",
       "      <th>name</th>\n",
       "      <th>platform</th>\n",
       "      <th>year_of_release</th>\n",
       "      <th>genre</th>\n",
       "      <th>na_sales</th>\n",
       "      <th>eu_sales</th>\n",
       "      <th>jp_sales</th>\n",
       "      <th>other_sales</th>\n",
       "      <th>critic_score</th>\n",
       "      <th>user_score</th>\n",
       "      <th>rating</th>\n",
       "      <th>user_score_category</th>\n",
       "    </tr>\n",
       "  </thead>\n",
       "  <tbody>\n",
       "    <tr>\n",
       "      <th>3394</th>\n",
       "      <td>Frozen: Olaf's Quest</td>\n",
       "      <td>3DS</td>\n",
       "      <td>2013</td>\n",
       "      <td>platform</td>\n",
       "      <td>0.27</td>\n",
       "      <td>0.27</td>\n",
       "      <td>0.00</td>\n",
       "      <td>0.05</td>\n",
       "      <td>-1.0</td>\n",
       "      <td>-1.0</td>\n",
       "      <td>NaN</td>\n",
       "      <td>без оценки</td>\n",
       "    </tr>\n",
       "    <tr>\n",
       "      <th>3906</th>\n",
       "      <td>Frozen: Olaf's Quest</td>\n",
       "      <td>DS</td>\n",
       "      <td>2013</td>\n",
       "      <td>platform</td>\n",
       "      <td>0.21</td>\n",
       "      <td>0.26</td>\n",
       "      <td>0.00</td>\n",
       "      <td>0.04</td>\n",
       "      <td>-1.0</td>\n",
       "      <td>-1.0</td>\n",
       "      <td>NaN</td>\n",
       "      <td>без оценки</td>\n",
       "    </tr>\n",
       "    <tr>\n",
       "      <th>2478</th>\n",
       "      <td>Tales of Xillia 2</td>\n",
       "      <td>PS3</td>\n",
       "      <td>2012</td>\n",
       "      <td>role-playing</td>\n",
       "      <td>0.20</td>\n",
       "      <td>0.12</td>\n",
       "      <td>0.45</td>\n",
       "      <td>0.07</td>\n",
       "      <td>71.0</td>\n",
       "      <td>7.9</td>\n",
       "      <td>T</td>\n",
       "      <td>средняя оценка</td>\n",
       "    </tr>\n",
       "    <tr>\n",
       "      <th>8460</th>\n",
       "      <td>.hack//G.U. Vol.1//Rebirth</td>\n",
       "      <td>PS2</td>\n",
       "      <td>2006</td>\n",
       "      <td>role-playing</td>\n",
       "      <td>0.00</td>\n",
       "      <td>0.00</td>\n",
       "      <td>0.17</td>\n",
       "      <td>0.00</td>\n",
       "      <td>-1.0</td>\n",
       "      <td>-1.0</td>\n",
       "      <td>NaN</td>\n",
       "      <td>без оценки</td>\n",
       "    </tr>\n",
       "    <tr>\n",
       "      <th>7182</th>\n",
       "      <td>.hack//G.U. Vol.2//Reminisce</td>\n",
       "      <td>PS2</td>\n",
       "      <td>2006</td>\n",
       "      <td>role-playing</td>\n",
       "      <td>0.11</td>\n",
       "      <td>0.09</td>\n",
       "      <td>0.00</td>\n",
       "      <td>0.03</td>\n",
       "      <td>-1.0</td>\n",
       "      <td>-1.0</td>\n",
       "      <td>NaN</td>\n",
       "      <td>без оценки</td>\n",
       "    </tr>\n",
       "    <tr>\n",
       "      <th>...</th>\n",
       "      <td>...</td>\n",
       "      <td>...</td>\n",
       "      <td>...</td>\n",
       "      <td>...</td>\n",
       "      <td>...</td>\n",
       "      <td>...</td>\n",
       "      <td>...</td>\n",
       "      <td>...</td>\n",
       "      <td>...</td>\n",
       "      <td>...</td>\n",
       "      <td>...</td>\n",
       "      <td>...</td>\n",
       "    </tr>\n",
       "    <tr>\n",
       "      <th>16731</th>\n",
       "      <td>thinkSMART: Chess for Kids</td>\n",
       "      <td>DS</td>\n",
       "      <td>2011</td>\n",
       "      <td>misc</td>\n",
       "      <td>0.01</td>\n",
       "      <td>0.00</td>\n",
       "      <td>0.00</td>\n",
       "      <td>0.00</td>\n",
       "      <td>-1.0</td>\n",
       "      <td>-1.0</td>\n",
       "      <td>E</td>\n",
       "      <td>без оценки</td>\n",
       "    </tr>\n",
       "    <tr>\n",
       "      <th>647</th>\n",
       "      <td>uDraw Studio</td>\n",
       "      <td>Wii</td>\n",
       "      <td>2010</td>\n",
       "      <td>misc</td>\n",
       "      <td>1.65</td>\n",
       "      <td>0.57</td>\n",
       "      <td>0.00</td>\n",
       "      <td>0.20</td>\n",
       "      <td>71.0</td>\n",
       "      <td>-1.0</td>\n",
       "      <td>E</td>\n",
       "      <td>без оценки</td>\n",
       "    </tr>\n",
       "    <tr>\n",
       "      <th>8397</th>\n",
       "      <td>uDraw Studio: Instant Artist</td>\n",
       "      <td>Wii</td>\n",
       "      <td>2011</td>\n",
       "      <td>misc</td>\n",
       "      <td>0.06</td>\n",
       "      <td>0.09</td>\n",
       "      <td>0.00</td>\n",
       "      <td>0.02</td>\n",
       "      <td>-1.0</td>\n",
       "      <td>-1.0</td>\n",
       "      <td>E</td>\n",
       "      <td>без оценки</td>\n",
       "    </tr>\n",
       "    <tr>\n",
       "      <th>15836</th>\n",
       "      <td>uDraw Studio: Instant Artist</td>\n",
       "      <td>X360</td>\n",
       "      <td>2011</td>\n",
       "      <td>misc</td>\n",
       "      <td>0.01</td>\n",
       "      <td>0.01</td>\n",
       "      <td>0.00</td>\n",
       "      <td>0.00</td>\n",
       "      <td>54.0</td>\n",
       "      <td>5.7</td>\n",
       "      <td>E</td>\n",
       "      <td>средняя оценка</td>\n",
       "    </tr>\n",
       "    <tr>\n",
       "      <th>9260</th>\n",
       "      <td>¡Shin Chan Flipa en colores!</td>\n",
       "      <td>DS</td>\n",
       "      <td>2007</td>\n",
       "      <td>platform</td>\n",
       "      <td>0.00</td>\n",
       "      <td>0.00</td>\n",
       "      <td>0.14</td>\n",
       "      <td>0.00</td>\n",
       "      <td>-1.0</td>\n",
       "      <td>-1.0</td>\n",
       "      <td>NaN</td>\n",
       "      <td>без оценки</td>\n",
       "    </tr>\n",
       "  </tbody>\n",
       "</table>\n",
       "<p>12781 rows × 12 columns</p>\n",
       "</div>"
      ],
      "text/plain": [
       "                               name platform  year_of_release         genre  \\\n",
       "3394           Frozen: Olaf's Quest      3DS             2013      platform   \n",
       "3906           Frozen: Olaf's Quest       DS             2013      platform   \n",
       "2478              Tales of Xillia 2      PS3             2012  role-playing   \n",
       "8460     .hack//G.U. Vol.1//Rebirth      PS2             2006  role-playing   \n",
       "7182   .hack//G.U. Vol.2//Reminisce      PS2             2006  role-playing   \n",
       "...                             ...      ...              ...           ...   \n",
       "16731    thinkSMART: Chess for Kids       DS             2011          misc   \n",
       "647                    uDraw Studio      Wii             2010          misc   \n",
       "8397   uDraw Studio: Instant Artist      Wii             2011          misc   \n",
       "15836  uDraw Studio: Instant Artist     X360             2011          misc   \n",
       "9260   ¡Shin Chan Flipa en colores!       DS             2007      platform   \n",
       "\n",
       "       na_sales  eu_sales  jp_sales  other_sales  critic_score  user_score  \\\n",
       "3394       0.27      0.27      0.00         0.05          -1.0        -1.0   \n",
       "3906       0.21      0.26      0.00         0.04          -1.0        -1.0   \n",
       "2478       0.20      0.12      0.45         0.07          71.0         7.9   \n",
       "8460       0.00      0.00      0.17         0.00          -1.0        -1.0   \n",
       "7182       0.11      0.09      0.00         0.03          -1.0        -1.0   \n",
       "...         ...       ...       ...          ...           ...         ...   \n",
       "16731      0.01      0.00      0.00         0.00          -1.0        -1.0   \n",
       "647        1.65      0.57      0.00         0.20          71.0        -1.0   \n",
       "8397       0.06      0.09      0.00         0.02          -1.0        -1.0   \n",
       "15836      0.01      0.01      0.00         0.00          54.0         5.7   \n",
       "9260       0.00      0.00      0.14         0.00          -1.0        -1.0   \n",
       "\n",
       "      rating user_score_category  \n",
       "3394     NaN          без оценки  \n",
       "3906     NaN          без оценки  \n",
       "2478       T      средняя оценка  \n",
       "8460     NaN          без оценки  \n",
       "7182     NaN          без оценки  \n",
       "...      ...                 ...  \n",
       "16731      E          без оценки  \n",
       "647        E          без оценки  \n",
       "8397       E          без оценки  \n",
       "15836      E      средняя оценка  \n",
       "9260     NaN          без оценки  \n",
       "\n",
       "[12781 rows x 12 columns]"
      ]
     },
     "metadata": {},
     "output_type": "display_data"
    }
   ],
   "source": [
    "# выполняем категоризацию по оценкам пользователей добавляем столбец 'user_score_category'\n",
    "df_actual_game['user_score_category'] = pd.cut(df_actual_game['user_score'], bins=[-2, 0, 3, 8, 10], labels=[\"без оценки\", \"низкая оценка\", \"средняя оценка\", \"высокая оценка\"], right=False)\n",
    "display(df_actual_game)"
   ]
  },
  {
   "cell_type": "code",
   "execution_count": 25,
   "id": "35438bd6",
   "metadata": {
    "id": "35438bd6"
   },
   "outputs": [
    {
     "name": "stderr",
     "output_type": "stream",
     "text": [
      "/tmp/ipykernel_47/2580494328.py:2: SettingWithCopyWarning: \n",
      "A value is trying to be set on a copy of a slice from a DataFrame.\n",
      "Try using .loc[row_indexer,col_indexer] = value instead\n",
      "\n",
      "See the caveats in the documentation: https://pandas.pydata.org/pandas-docs/stable/user_guide/indexing.html#returning-a-view-versus-a-copy\n",
      "  df_actual_game['critic_score_category'] = pd.cut(df_actual_game['critic_score'], bins=[-2, 0, 30, 80, 100], labels=[\"без оценки\", \"низкая оценка\", \"средняя оценка\", \"высокая оценка\"], right=False)\n"
     ]
    },
    {
     "data": {
      "text/html": [
       "<div>\n",
       "<style scoped>\n",
       "    .dataframe tbody tr th:only-of-type {\n",
       "        vertical-align: middle;\n",
       "    }\n",
       "\n",
       "    .dataframe tbody tr th {\n",
       "        vertical-align: top;\n",
       "    }\n",
       "\n",
       "    .dataframe thead th {\n",
       "        text-align: right;\n",
       "    }\n",
       "</style>\n",
       "<table border=\"1\" class=\"dataframe\">\n",
       "  <thead>\n",
       "    <tr style=\"text-align: right;\">\n",
       "      <th></th>\n",
       "      <th>name</th>\n",
       "      <th>platform</th>\n",
       "      <th>year_of_release</th>\n",
       "      <th>genre</th>\n",
       "      <th>na_sales</th>\n",
       "      <th>eu_sales</th>\n",
       "      <th>jp_sales</th>\n",
       "      <th>other_sales</th>\n",
       "      <th>critic_score</th>\n",
       "      <th>user_score</th>\n",
       "      <th>rating</th>\n",
       "      <th>user_score_category</th>\n",
       "      <th>critic_score_category</th>\n",
       "    </tr>\n",
       "  </thead>\n",
       "  <tbody>\n",
       "    <tr>\n",
       "      <th>3394</th>\n",
       "      <td>Frozen: Olaf's Quest</td>\n",
       "      <td>3DS</td>\n",
       "      <td>2013</td>\n",
       "      <td>platform</td>\n",
       "      <td>0.27</td>\n",
       "      <td>0.27</td>\n",
       "      <td>0.00</td>\n",
       "      <td>0.05</td>\n",
       "      <td>-1.0</td>\n",
       "      <td>-1.0</td>\n",
       "      <td>NaN</td>\n",
       "      <td>без оценки</td>\n",
       "      <td>без оценки</td>\n",
       "    </tr>\n",
       "    <tr>\n",
       "      <th>3906</th>\n",
       "      <td>Frozen: Olaf's Quest</td>\n",
       "      <td>DS</td>\n",
       "      <td>2013</td>\n",
       "      <td>platform</td>\n",
       "      <td>0.21</td>\n",
       "      <td>0.26</td>\n",
       "      <td>0.00</td>\n",
       "      <td>0.04</td>\n",
       "      <td>-1.0</td>\n",
       "      <td>-1.0</td>\n",
       "      <td>NaN</td>\n",
       "      <td>без оценки</td>\n",
       "      <td>без оценки</td>\n",
       "    </tr>\n",
       "    <tr>\n",
       "      <th>2478</th>\n",
       "      <td>Tales of Xillia 2</td>\n",
       "      <td>PS3</td>\n",
       "      <td>2012</td>\n",
       "      <td>role-playing</td>\n",
       "      <td>0.20</td>\n",
       "      <td>0.12</td>\n",
       "      <td>0.45</td>\n",
       "      <td>0.07</td>\n",
       "      <td>71.0</td>\n",
       "      <td>7.9</td>\n",
       "      <td>T</td>\n",
       "      <td>средняя оценка</td>\n",
       "      <td>средняя оценка</td>\n",
       "    </tr>\n",
       "    <tr>\n",
       "      <th>8460</th>\n",
       "      <td>.hack//G.U. Vol.1//Rebirth</td>\n",
       "      <td>PS2</td>\n",
       "      <td>2006</td>\n",
       "      <td>role-playing</td>\n",
       "      <td>0.00</td>\n",
       "      <td>0.00</td>\n",
       "      <td>0.17</td>\n",
       "      <td>0.00</td>\n",
       "      <td>-1.0</td>\n",
       "      <td>-1.0</td>\n",
       "      <td>NaN</td>\n",
       "      <td>без оценки</td>\n",
       "      <td>без оценки</td>\n",
       "    </tr>\n",
       "    <tr>\n",
       "      <th>7182</th>\n",
       "      <td>.hack//G.U. Vol.2//Reminisce</td>\n",
       "      <td>PS2</td>\n",
       "      <td>2006</td>\n",
       "      <td>role-playing</td>\n",
       "      <td>0.11</td>\n",
       "      <td>0.09</td>\n",
       "      <td>0.00</td>\n",
       "      <td>0.03</td>\n",
       "      <td>-1.0</td>\n",
       "      <td>-1.0</td>\n",
       "      <td>NaN</td>\n",
       "      <td>без оценки</td>\n",
       "      <td>без оценки</td>\n",
       "    </tr>\n",
       "    <tr>\n",
       "      <th>...</th>\n",
       "      <td>...</td>\n",
       "      <td>...</td>\n",
       "      <td>...</td>\n",
       "      <td>...</td>\n",
       "      <td>...</td>\n",
       "      <td>...</td>\n",
       "      <td>...</td>\n",
       "      <td>...</td>\n",
       "      <td>...</td>\n",
       "      <td>...</td>\n",
       "      <td>...</td>\n",
       "      <td>...</td>\n",
       "      <td>...</td>\n",
       "    </tr>\n",
       "    <tr>\n",
       "      <th>16731</th>\n",
       "      <td>thinkSMART: Chess for Kids</td>\n",
       "      <td>DS</td>\n",
       "      <td>2011</td>\n",
       "      <td>misc</td>\n",
       "      <td>0.01</td>\n",
       "      <td>0.00</td>\n",
       "      <td>0.00</td>\n",
       "      <td>0.00</td>\n",
       "      <td>-1.0</td>\n",
       "      <td>-1.0</td>\n",
       "      <td>E</td>\n",
       "      <td>без оценки</td>\n",
       "      <td>без оценки</td>\n",
       "    </tr>\n",
       "    <tr>\n",
       "      <th>647</th>\n",
       "      <td>uDraw Studio</td>\n",
       "      <td>Wii</td>\n",
       "      <td>2010</td>\n",
       "      <td>misc</td>\n",
       "      <td>1.65</td>\n",
       "      <td>0.57</td>\n",
       "      <td>0.00</td>\n",
       "      <td>0.20</td>\n",
       "      <td>71.0</td>\n",
       "      <td>-1.0</td>\n",
       "      <td>E</td>\n",
       "      <td>без оценки</td>\n",
       "      <td>средняя оценка</td>\n",
       "    </tr>\n",
       "    <tr>\n",
       "      <th>8397</th>\n",
       "      <td>uDraw Studio: Instant Artist</td>\n",
       "      <td>Wii</td>\n",
       "      <td>2011</td>\n",
       "      <td>misc</td>\n",
       "      <td>0.06</td>\n",
       "      <td>0.09</td>\n",
       "      <td>0.00</td>\n",
       "      <td>0.02</td>\n",
       "      <td>-1.0</td>\n",
       "      <td>-1.0</td>\n",
       "      <td>E</td>\n",
       "      <td>без оценки</td>\n",
       "      <td>без оценки</td>\n",
       "    </tr>\n",
       "    <tr>\n",
       "      <th>15836</th>\n",
       "      <td>uDraw Studio: Instant Artist</td>\n",
       "      <td>X360</td>\n",
       "      <td>2011</td>\n",
       "      <td>misc</td>\n",
       "      <td>0.01</td>\n",
       "      <td>0.01</td>\n",
       "      <td>0.00</td>\n",
       "      <td>0.00</td>\n",
       "      <td>54.0</td>\n",
       "      <td>5.7</td>\n",
       "      <td>E</td>\n",
       "      <td>средняя оценка</td>\n",
       "      <td>средняя оценка</td>\n",
       "    </tr>\n",
       "    <tr>\n",
       "      <th>9260</th>\n",
       "      <td>¡Shin Chan Flipa en colores!</td>\n",
       "      <td>DS</td>\n",
       "      <td>2007</td>\n",
       "      <td>platform</td>\n",
       "      <td>0.00</td>\n",
       "      <td>0.00</td>\n",
       "      <td>0.14</td>\n",
       "      <td>0.00</td>\n",
       "      <td>-1.0</td>\n",
       "      <td>-1.0</td>\n",
       "      <td>NaN</td>\n",
       "      <td>без оценки</td>\n",
       "      <td>без оценки</td>\n",
       "    </tr>\n",
       "  </tbody>\n",
       "</table>\n",
       "<p>12781 rows × 13 columns</p>\n",
       "</div>"
      ],
      "text/plain": [
       "                               name platform  year_of_release         genre  \\\n",
       "3394           Frozen: Olaf's Quest      3DS             2013      platform   \n",
       "3906           Frozen: Olaf's Quest       DS             2013      platform   \n",
       "2478              Tales of Xillia 2      PS3             2012  role-playing   \n",
       "8460     .hack//G.U. Vol.1//Rebirth      PS2             2006  role-playing   \n",
       "7182   .hack//G.U. Vol.2//Reminisce      PS2             2006  role-playing   \n",
       "...                             ...      ...              ...           ...   \n",
       "16731    thinkSMART: Chess for Kids       DS             2011          misc   \n",
       "647                    uDraw Studio      Wii             2010          misc   \n",
       "8397   uDraw Studio: Instant Artist      Wii             2011          misc   \n",
       "15836  uDraw Studio: Instant Artist     X360             2011          misc   \n",
       "9260   ¡Shin Chan Flipa en colores!       DS             2007      platform   \n",
       "\n",
       "       na_sales  eu_sales  jp_sales  other_sales  critic_score  user_score  \\\n",
       "3394       0.27      0.27      0.00         0.05          -1.0        -1.0   \n",
       "3906       0.21      0.26      0.00         0.04          -1.0        -1.0   \n",
       "2478       0.20      0.12      0.45         0.07          71.0         7.9   \n",
       "8460       0.00      0.00      0.17         0.00          -1.0        -1.0   \n",
       "7182       0.11      0.09      0.00         0.03          -1.0        -1.0   \n",
       "...         ...       ...       ...          ...           ...         ...   \n",
       "16731      0.01      0.00      0.00         0.00          -1.0        -1.0   \n",
       "647        1.65      0.57      0.00         0.20          71.0        -1.0   \n",
       "8397       0.06      0.09      0.00         0.02          -1.0        -1.0   \n",
       "15836      0.01      0.01      0.00         0.00          54.0         5.7   \n",
       "9260       0.00      0.00      0.14         0.00          -1.0        -1.0   \n",
       "\n",
       "      rating user_score_category critic_score_category  \n",
       "3394     NaN          без оценки            без оценки  \n",
       "3906     NaN          без оценки            без оценки  \n",
       "2478       T      средняя оценка        средняя оценка  \n",
       "8460     NaN          без оценки            без оценки  \n",
       "7182     NaN          без оценки            без оценки  \n",
       "...      ...                 ...                   ...  \n",
       "16731      E          без оценки            без оценки  \n",
       "647        E          без оценки        средняя оценка  \n",
       "8397       E          без оценки            без оценки  \n",
       "15836      E      средняя оценка        средняя оценка  \n",
       "9260     NaN          без оценки            без оценки  \n",
       "\n",
       "[12781 rows x 13 columns]"
      ]
     },
     "metadata": {},
     "output_type": "display_data"
    }
   ],
   "source": [
    "# выполняем категоризацию по оценкам критиков добавляем столбец 'critic_score_category'\n",
    "df_actual_game['critic_score_category'] = pd.cut(df_actual_game['critic_score'], bins=[-2, 0, 30, 80, 100], labels=[\"без оценки\", \"низкая оценка\", \"средняя оценка\", \"высокая оценка\"], right=False)\n",
    "display(df_actual_game)"
   ]
  },
  {
   "cell_type": "markdown",
   "id": "61e4eedc",
   "metadata": {},
   "source": [
    "<img src=\"https://upload.wikimedia.org/wikipedia/commons/thumb/8/81/Stop_sign.png/240px-Stop_sign.png\" align=left width=35, heigth=35>\n",
    "<div class=\"alert alert-danger\">\n",
    "Здесь тоже ошибка связанная с включением правой границы интервала. Пожалуйста исправь по аналогии с предыдущим\n",
    "</div>"
   ]
  },
  {
   "cell_type": "markdown",
   "id": "f8f34b40",
   "metadata": {
    "id": "f8f34b40"
   },
   "source": [
    "- Разделите все игры по оценкам критиков и выделите такие категории: высокая оценка (от 80 до 100 включительно), средняя оценка (от 30 до 80, не включая правую границу интервала) и низкая оценка (от 0 до 30, не включая правую границу интервала)."
   ]
  },
  {
   "cell_type": "code",
   "execution_count": 26,
   "id": "e6e7519b",
   "metadata": {},
   "outputs": [
    {
     "name": "stdout",
     "output_type": "stream",
     "text": [
      "<class 'pandas.core.frame.DataFrame'>\n",
      "Int64Index: 12781 entries, 3394 to 9260\n",
      "Data columns (total 13 columns):\n",
      " #   Column                 Non-Null Count  Dtype   \n",
      "---  ------                 --------------  -----   \n",
      " 0   name                   12781 non-null  object  \n",
      " 1   platform               12781 non-null  object  \n",
      " 2   year_of_release        12781 non-null  int64   \n",
      " 3   genre                  12781 non-null  object  \n",
      " 4   na_sales               12781 non-null  float64 \n",
      " 5   eu_sales               12781 non-null  float64 \n",
      " 6   jp_sales               12781 non-null  float64 \n",
      " 7   other_sales            12781 non-null  float64 \n",
      " 8   critic_score           12781 non-null  float64 \n",
      " 9   user_score             12781 non-null  float64 \n",
      " 10  rating                 8723 non-null   object  \n",
      " 11  user_score_category    12781 non-null  category\n",
      " 12  critic_score_category  12781 non-null  category\n",
      "dtypes: category(2), float64(6), int64(1), object(4)\n",
      "memory usage: 1.2+ MB\n"
     ]
    }
   ],
   "source": [
    "df_actual_game.info()"
   ]
  },
  {
   "cell_type": "code",
   "execution_count": 27,
   "id": "e3f7acb0",
   "metadata": {
    "id": "e3f7acb0",
    "scrolled": true
   },
   "outputs": [
    {
     "name": "stdout",
     "output_type": "stream",
     "text": [
      "user_score_category\n",
      "без оценки        6298\n",
      "низкая оценка      116\n",
      "средняя оценка    4081\n",
      "высокая оценка    2286\n",
      "Name: name, dtype: int64\n"
     ]
    }
   ],
   "source": [
    "# группируем данные по оценкам пользователей\n",
    "grouped_user_score_category = df_actual_game.groupby('user_score_category')['name'].count()\n",
    "print(grouped_user_score_category) "
   ]
  },
  {
   "cell_type": "code",
   "execution_count": 28,
   "id": "548fde17",
   "metadata": {
    "id": "548fde17"
   },
   "outputs": [
    {
     "name": "stdout",
     "output_type": "stream",
     "text": [
      "critic_score_category\n",
      "без оценки        5612\n",
      "низкая оценка       55\n",
      "средняя оценка    5422\n",
      "высокая оценка    1692\n",
      "Name: name, dtype: int64\n"
     ]
    }
   ],
   "source": [
    "# группируем данные по оценкам критиков\n",
    "grouped_critic_score_category = df_actual_game.groupby('critic_score_category')['name'].count()\n",
    "print(grouped_critic_score_category)"
   ]
  },
  {
   "cell_type": "markdown",
   "id": "olkTlTlAUDR9",
   "metadata": {
    "id": "olkTlTlAUDR9"
   },
   "source": [
    "- После категоризации данных проверьте результат: сгруппируйте данные по выделенным категориям и посчитайте количество игр в каждой категории."
   ]
  },
  {
   "cell_type": "code",
   "execution_count": 29,
   "id": "HW0Nsp-4UMSL",
   "metadata": {
    "id": "HW0Nsp-4UMSL"
   },
   "outputs": [
    {
     "name": "stdout",
     "output_type": "stream",
     "text": [
      "platform\n",
      "PS2     2127\n",
      "DS      2120\n",
      "Wii     1275\n",
      "PSP     1180\n",
      "X360    1121\n",
      "PS3     1087\n",
      "GBA      811\n",
      "Name: name, dtype: int64\n"
     ]
    }
   ],
   "source": [
    "# Выделяем топ-7 платформ по количеству игр, выпущенных за весь актуальный период.\n",
    "grouped_critic_score_platform  = df_actual_game.groupby('platform')['name'].count().sort_values(ascending=False).head(7)\n",
    "print(grouped_critic_score_platform)"
   ]
  },
  {
   "cell_type": "markdown",
   "id": "6a98444c",
   "metadata": {
    "id": "6a98444c"
   },
   "source": [
    "- Выделите топ-7 платформ по количеству игр, выпущенных за весь актуальный период."
   ]
  },
  {
   "cell_type": "markdown",
   "id": "c0158881",
   "metadata": {
    "id": "c0158881"
   },
   "source": [
    "---\n",
    "\n",
    "## 5. Итоговый вывод\n",
    "\n",
    "В конце напишите основной вывод и отразите, какую работу проделали. Не забудьте указать описание среза данных и новых полей, которые добавили в исходный датасет."
   ]
  },
  {
   "cell_type": "markdown",
   "id": "5f2e2fb0",
   "metadata": {
    "id": "20175f5b"
   },
   "source": [
    "Данные были приведены в порядок, а именно: приведены к необходимым типам данных, заменены пропуски, а так же мы избавились от явных и не явных дубликатов. В первоначальном датафрейме было 16956 строк и 11 столбцов, после удаления дубликатов и фильтрации по годам (были отобраны игры вышедшие в период 2000-2013 годов) количество строк в актуальном датафреме уменьшилось до 12980 строк, а вот количество столбцов выросло до 13, добавились столбцы с категориями оценок пользователей и критиков ('user_score_category' и 'critic_score_category'). Как видно из данных по играм за актуальный период преобладает средняя оценка как среди критиков так и среди пользователей. Если обратить внимание на топ платформ по количеству игр, то там с большим отрывом лидируют 'PS2': 2154 игры и 'DS':2146 игр."
   ]
  }
 ],
 "metadata": {
  "ExecuteTimeLog": [
   {
    "duration": 505,
    "start_time": "2025-01-15T17:24:51.581Z"
   },
   {
    "duration": 69,
    "start_time": "2025-01-15T17:49:10.144Z"
   },
   {
    "duration": 76,
    "start_time": "2025-01-15T17:49:27.607Z"
   },
   {
    "duration": 92,
    "start_time": "2025-01-15T17:49:52.389Z"
   },
   {
    "duration": 128,
    "start_time": "2025-01-15T18:45:32.936Z"
   },
   {
    "duration": 127,
    "start_time": "2025-01-15T18:57:14.581Z"
   },
   {
    "duration": 3,
    "start_time": "2025-01-15T18:57:52.469Z"
   },
   {
    "duration": 135,
    "start_time": "2025-01-15T19:14:50.142Z"
   },
   {
    "duration": 143,
    "start_time": "2025-01-15T19:18:55.304Z"
   },
   {
    "duration": 171,
    "start_time": "2025-01-15T19:18:58.707Z"
   },
   {
    "duration": 120,
    "start_time": "2025-01-15T19:19:11.199Z"
   },
   {
    "duration": 92,
    "start_time": "2025-01-15T19:19:16.412Z"
   },
   {
    "duration": 9,
    "start_time": "2025-01-15T19:19:58.621Z"
   },
   {
    "duration": 7,
    "start_time": "2025-01-15T19:21:00.544Z"
   },
   {
    "duration": 1540,
    "start_time": "2025-01-15T19:21:12.533Z"
   },
   {
    "duration": 1462,
    "start_time": "2025-01-15T19:22:54.526Z"
   },
   {
    "duration": 1358,
    "start_time": "2025-01-15T19:32:10.001Z"
   },
   {
    "duration": 1407,
    "start_time": "2025-01-15T19:32:37.392Z"
   },
   {
    "duration": 1244,
    "start_time": "2025-01-15T19:41:24.580Z"
   },
   {
    "duration": 1295,
    "start_time": "2025-01-15T19:43:40.663Z"
   },
   {
    "duration": 1496,
    "start_time": "2025-01-15T19:45:34.278Z"
   },
   {
    "duration": 97,
    "start_time": "2025-01-15T19:51:42.073Z"
   },
   {
    "duration": 108,
    "start_time": "2025-01-15T19:52:30.800Z"
   },
   {
    "duration": 64,
    "start_time": "2025-01-15T19:53:08.661Z"
   },
   {
    "duration": 78,
    "start_time": "2025-01-15T19:53:34.961Z"
   },
   {
    "duration": 72,
    "start_time": "2025-01-15T19:53:52.041Z"
   },
   {
    "duration": 1337,
    "start_time": "2025-01-15T19:54:05.807Z"
   },
   {
    "duration": 4,
    "start_time": "2025-01-15T19:54:39.154Z"
   },
   {
    "duration": 14,
    "start_time": "2025-01-15T19:56:44.601Z"
   },
   {
    "duration": 16,
    "start_time": "2025-01-15T19:58:13.252Z"
   },
   {
    "duration": 106,
    "start_time": "2025-01-15T19:59:30.819Z"
   },
   {
    "duration": 67,
    "start_time": "2025-01-15T19:59:38.743Z"
   },
   {
    "duration": 70,
    "start_time": "2025-01-15T19:59:57.891Z"
   },
   {
    "duration": 48,
    "start_time": "2025-01-15T20:04:00.741Z"
   },
   {
    "duration": 8,
    "start_time": "2025-01-15T20:05:32.388Z"
   },
   {
    "duration": 12,
    "start_time": "2025-01-15T20:05:52.940Z"
   },
   {
    "duration": 11,
    "start_time": "2025-01-15T20:06:15.006Z"
   },
   {
    "duration": 4,
    "start_time": "2025-01-15T20:07:50.668Z"
   },
   {
    "duration": 496,
    "start_time": "2025-01-16T17:07:13.087Z"
   },
   {
    "duration": 59,
    "start_time": "2025-01-16T17:08:27.939Z"
   },
   {
    "duration": 1331,
    "start_time": "2025-01-16T17:08:40.619Z"
   },
   {
    "duration": 5,
    "start_time": "2025-01-16T17:09:04.858Z"
   },
   {
    "duration": 12,
    "start_time": "2025-01-16T17:09:16.310Z"
   },
   {
    "duration": 82,
    "start_time": "2025-01-16T17:10:05.697Z"
   },
   {
    "duration": 47,
    "start_time": "2025-01-16T17:10:14.627Z"
   },
   {
    "duration": 24,
    "start_time": "2025-01-16T17:14:31.733Z"
   },
   {
    "duration": 371,
    "start_time": "2025-01-16T17:16:03.705Z"
   },
   {
    "duration": 17,
    "start_time": "2025-01-16T17:18:25.519Z"
   },
   {
    "duration": 16,
    "start_time": "2025-01-16T17:18:55.215Z"
   },
   {
    "duration": 17,
    "start_time": "2025-01-16T17:29:12.433Z"
   },
   {
    "duration": 20,
    "start_time": "2025-01-16T17:29:58.032Z"
   },
   {
    "duration": 23,
    "start_time": "2025-01-16T17:30:08.467Z"
   },
   {
    "duration": 23,
    "start_time": "2025-01-16T17:30:37.664Z"
   },
   {
    "duration": 59,
    "start_time": "2025-01-16T17:32:47.787Z"
   },
   {
    "duration": 25,
    "start_time": "2025-01-16T17:33:11.114Z"
   },
   {
    "duration": 1463,
    "start_time": "2025-01-16T17:33:33.898Z"
   },
   {
    "duration": 1362,
    "start_time": "2025-01-16T17:34:15.148Z"
   },
   {
    "duration": 151,
    "start_time": "2025-01-16T17:35:01.196Z"
   },
   {
    "duration": 103,
    "start_time": "2025-01-16T17:37:41.416Z"
   },
   {
    "duration": 78,
    "start_time": "2025-01-16T17:37:47.753Z"
   },
   {
    "duration": 79,
    "start_time": "2025-01-16T17:38:13.531Z"
   },
   {
    "duration": 1441,
    "start_time": "2025-01-16T17:38:19.222Z"
   },
   {
    "duration": 16,
    "start_time": "2025-01-16T17:38:28.054Z"
   },
   {
    "duration": 1411,
    "start_time": "2025-01-16T17:38:35.447Z"
   },
   {
    "duration": 1359,
    "start_time": "2025-01-16T17:39:16.380Z"
   },
   {
    "duration": 1365,
    "start_time": "2025-01-16T17:42:21.376Z"
   },
   {
    "duration": 20,
    "start_time": "2025-01-16T17:44:08.232Z"
   },
   {
    "duration": 53,
    "start_time": "2025-01-16T17:44:21.444Z"
   },
   {
    "duration": 25,
    "start_time": "2025-01-16T17:44:27.558Z"
   },
   {
    "duration": 74,
    "start_time": "2025-01-16T17:45:35.021Z"
   },
   {
    "duration": 37,
    "start_time": "2025-01-16T17:48:26.007Z"
   },
   {
    "duration": 22,
    "start_time": "2025-01-16T17:49:04.691Z"
   },
   {
    "duration": 17,
    "start_time": "2025-01-16T17:53:36.305Z"
   },
   {
    "duration": 18,
    "start_time": "2025-01-16T17:53:45.999Z"
   },
   {
    "duration": 18,
    "start_time": "2025-01-16T17:54:03.044Z"
   },
   {
    "duration": 51,
    "start_time": "2025-01-16T17:54:50.842Z"
   },
   {
    "duration": 36,
    "start_time": "2025-01-16T18:02:57.408Z"
   },
   {
    "duration": 20,
    "start_time": "2025-01-16T18:05:09.134Z"
   },
   {
    "duration": 9,
    "start_time": "2025-01-16T18:07:10.347Z"
   },
   {
    "duration": 10,
    "start_time": "2025-01-16T18:07:37.360Z"
   },
   {
    "duration": 11,
    "start_time": "2025-01-16T18:07:48.698Z"
   },
   {
    "duration": 18,
    "start_time": "2025-01-16T18:23:25.200Z"
   },
   {
    "duration": 20,
    "start_time": "2025-01-16T18:24:41.840Z"
   },
   {
    "duration": 16,
    "start_time": "2025-01-16T18:26:37.159Z"
   },
   {
    "duration": 18,
    "start_time": "2025-01-16T18:27:00.895Z"
   },
   {
    "duration": 1375,
    "start_time": "2025-01-16T18:27:13.849Z"
   },
   {
    "duration": 10,
    "start_time": "2025-01-16T18:36:09.867Z"
   },
   {
    "duration": 14,
    "start_time": "2025-01-16T18:36:47.588Z"
   },
   {
    "duration": 1400,
    "start_time": "2025-01-16T18:46:27.712Z"
   },
   {
    "duration": 10,
    "start_time": "2025-01-16T18:47:02.082Z"
   },
   {
    "duration": 9,
    "start_time": "2025-01-16T18:49:59.944Z"
   },
   {
    "duration": 12,
    "start_time": "2025-01-16T18:50:18.537Z"
   },
   {
    "duration": 12,
    "start_time": "2025-01-16T18:51:02.112Z"
   },
   {
    "duration": 1380,
    "start_time": "2025-01-16T18:51:11.887Z"
   },
   {
    "duration": 7,
    "start_time": "2025-01-16T18:51:32.200Z"
   },
   {
    "duration": 12,
    "start_time": "2025-01-16T18:54:27.576Z"
   },
   {
    "duration": 9,
    "start_time": "2025-01-16T18:55:11.428Z"
   },
   {
    "duration": 9,
    "start_time": "2025-01-16T18:55:41.255Z"
   },
   {
    "duration": 8,
    "start_time": "2025-01-16T18:55:50.289Z"
   },
   {
    "duration": 11,
    "start_time": "2025-01-16T18:56:08.715Z"
   },
   {
    "duration": 14,
    "start_time": "2025-01-16T18:56:44.686Z"
   },
   {
    "duration": 10,
    "start_time": "2025-01-16T18:57:14.752Z"
   },
   {
    "duration": 14,
    "start_time": "2025-01-16T18:59:14.605Z"
   },
   {
    "duration": 7,
    "start_time": "2025-01-16T19:21:46.497Z"
   },
   {
    "duration": 9,
    "start_time": "2025-01-16T19:22:59.979Z"
   },
   {
    "duration": 14,
    "start_time": "2025-01-16T19:23:21.875Z"
   },
   {
    "duration": 7,
    "start_time": "2025-01-16T19:34:22.323Z"
   },
   {
    "duration": 11,
    "start_time": "2025-01-16T19:34:32.419Z"
   },
   {
    "duration": 1397,
    "start_time": "2025-01-16T19:52:49.824Z"
   },
   {
    "duration": 254,
    "start_time": "2025-01-16T19:57:03.919Z"
   },
   {
    "duration": 243,
    "start_time": "2025-01-16T19:57:24.753Z"
   },
   {
    "duration": 261,
    "start_time": "2025-01-16T19:57:31.044Z"
   },
   {
    "duration": 253,
    "start_time": "2025-01-16T19:58:02.824Z"
   },
   {
    "duration": 245,
    "start_time": "2025-01-16T19:58:05.768Z"
   },
   {
    "duration": 259,
    "start_time": "2025-01-16T19:58:17.116Z"
   },
   {
    "duration": 269,
    "start_time": "2025-01-16T19:58:23.739Z"
   },
   {
    "duration": 261,
    "start_time": "2025-01-16T20:00:26.835Z"
   },
   {
    "duration": 1346,
    "start_time": "2025-01-16T20:06:38.502Z"
   },
   {
    "duration": 14,
    "start_time": "2025-01-16T20:07:01.396Z"
   },
   {
    "duration": 1413,
    "start_time": "2025-01-16T20:07:15.897Z"
   },
   {
    "duration": 1343,
    "start_time": "2025-01-16T20:08:49.034Z"
   },
   {
    "duration": 46132,
    "start_time": "2025-01-16T20:12:51.290Z"
   },
   {
    "duration": 251,
    "start_time": "2025-01-16T20:17:12.223Z"
   },
   {
    "duration": 7,
    "start_time": "2025-01-16T20:17:56.181Z"
   },
   {
    "duration": 43798,
    "start_time": "2025-01-16T20:17:57.971Z"
   },
   {
    "duration": 7,
    "start_time": "2025-01-16T20:18:43.299Z"
   },
   {
    "duration": 0,
    "start_time": "2025-01-16T20:20:13.701Z"
   },
   {
    "duration": 0,
    "start_time": "2025-01-16T20:20:13.702Z"
   },
   {
    "duration": 253,
    "start_time": "2025-01-16T20:20:29.128Z"
   },
   {
    "duration": 250,
    "start_time": "2025-01-16T20:21:11.022Z"
   },
   {
    "duration": 1728,
    "start_time": "2025-01-16T20:24:59.794Z"
   },
   {
    "duration": 1415,
    "start_time": "2025-01-16T20:27:46.425Z"
   },
   {
    "duration": 44443,
    "start_time": "2025-01-16T20:28:29.866Z"
   },
   {
    "duration": 6,
    "start_time": "2025-01-16T20:45:21.192Z"
   },
   {
    "duration": 6,
    "start_time": "2025-01-16T20:45:26.004Z"
   },
   {
    "duration": 49,
    "start_time": "2025-01-17T17:22:04.328Z"
   },
   {
    "duration": 8,
    "start_time": "2025-01-17T17:22:49.046Z"
   },
   {
    "duration": 9,
    "start_time": "2025-01-17T17:23:24.023Z"
   },
   {
    "duration": 8,
    "start_time": "2025-01-17T17:23:31.613Z"
   },
   {
    "duration": 7,
    "start_time": "2025-01-17T17:23:34.788Z"
   },
   {
    "duration": 6,
    "start_time": "2025-01-17T17:24:02.016Z"
   },
   {
    "duration": 9,
    "start_time": "2025-01-17T17:24:08.635Z"
   },
   {
    "duration": 550,
    "start_time": "2025-01-17T17:24:14.811Z"
   },
   {
    "duration": 83,
    "start_time": "2025-01-17T17:24:19.305Z"
   },
   {
    "duration": 1455,
    "start_time": "2025-01-17T17:24:26.212Z"
   },
   {
    "duration": 90,
    "start_time": "2025-01-17T17:24:36.742Z"
   },
   {
    "duration": 7,
    "start_time": "2025-01-17T17:25:04.439Z"
   },
   {
    "duration": 50688,
    "start_time": "2025-01-17T17:25:10.708Z"
   },
   {
    "duration": 22,
    "start_time": "2025-01-17T17:26:01.398Z"
   },
   {
    "duration": 41,
    "start_time": "2025-01-17T17:26:01.422Z"
   },
   {
    "duration": 27,
    "start_time": "2025-01-17T17:26:01.465Z"
   },
   {
    "duration": 135,
    "start_time": "2025-01-17T17:26:01.494Z"
   },
   {
    "duration": 6,
    "start_time": "2025-01-17T17:26:01.631Z"
   },
   {
    "duration": 1428,
    "start_time": "2025-01-17T17:28:03.907Z"
   },
   {
    "duration": 14,
    "start_time": "2025-01-17T17:28:19.535Z"
   },
   {
    "duration": 12,
    "start_time": "2025-01-17T17:30:51.519Z"
   },
   {
    "duration": 11,
    "start_time": "2025-01-17T17:31:22.835Z"
   },
   {
    "duration": 100,
    "start_time": "2025-01-17T17:58:37.364Z"
   },
   {
    "duration": 86,
    "start_time": "2025-01-17T17:58:51.305Z"
   },
   {
    "duration": 8,
    "start_time": "2025-01-17T18:05:55.929Z"
   },
   {
    "duration": 8,
    "start_time": "2025-01-17T18:07:38.697Z"
   },
   {
    "duration": 9,
    "start_time": "2025-01-17T18:07:50.683Z"
   },
   {
    "duration": 8,
    "start_time": "2025-01-17T18:08:02.384Z"
   },
   {
    "duration": 9,
    "start_time": "2025-01-17T18:08:18.285Z"
   },
   {
    "duration": 11,
    "start_time": "2025-01-17T18:09:05.207Z"
   },
   {
    "duration": 1471,
    "start_time": "2025-01-17T18:10:44.131Z"
   },
   {
    "duration": 19,
    "start_time": "2025-01-17T18:10:58.811Z"
   },
   {
    "duration": 7,
    "start_time": "2025-01-17T18:12:06.602Z"
   },
   {
    "duration": 6,
    "start_time": "2025-01-17T18:12:30.102Z"
   },
   {
    "duration": 18,
    "start_time": "2025-01-17T18:15:52.912Z"
   },
   {
    "duration": 17,
    "start_time": "2025-01-17T18:17:23.836Z"
   },
   {
    "duration": 103,
    "start_time": "2025-01-17T18:18:02.873Z"
   },
   {
    "duration": 20,
    "start_time": "2025-01-17T18:18:10.323Z"
   },
   {
    "duration": 67,
    "start_time": "2025-01-17T18:33:10.131Z"
   },
   {
    "duration": 56,
    "start_time": "2025-01-17T18:36:27.248Z"
   },
   {
    "duration": 59,
    "start_time": "2025-01-17T18:39:50.424Z"
   },
   {
    "duration": 57,
    "start_time": "2025-01-17T18:40:38.274Z"
   },
   {
    "duration": 60,
    "start_time": "2025-01-17T18:41:09.251Z"
   },
   {
    "duration": 56,
    "start_time": "2025-01-17T18:47:56.973Z"
   },
   {
    "duration": 65,
    "start_time": "2025-01-17T18:48:19.816Z"
   },
   {
    "duration": 105,
    "start_time": "2025-01-17T19:00:15.415Z"
   },
   {
    "duration": 517,
    "start_time": "2025-01-17T19:01:13.478Z"
   },
   {
    "duration": 12,
    "start_time": "2025-01-17T19:01:55.494Z"
   },
   {
    "duration": 11,
    "start_time": "2025-01-17T19:02:15.592Z"
   },
   {
    "duration": 572,
    "start_time": "2025-01-17T19:02:24.766Z"
   },
   {
    "duration": 12,
    "start_time": "2025-01-17T19:03:12.605Z"
   },
   {
    "duration": 15,
    "start_time": "2025-01-17T19:04:18.258Z"
   },
   {
    "duration": 28,
    "start_time": "2025-01-17T19:05:36.331Z"
   },
   {
    "duration": 15,
    "start_time": "2025-01-17T19:05:46.972Z"
   },
   {
    "duration": 15,
    "start_time": "2025-01-17T19:06:12.944Z"
   },
   {
    "duration": 15,
    "start_time": "2025-01-17T19:06:40.545Z"
   },
   {
    "duration": 12,
    "start_time": "2025-01-17T19:06:44.468Z"
   },
   {
    "duration": 15,
    "start_time": "2025-01-17T19:06:47.523Z"
   },
   {
    "duration": 14,
    "start_time": "2025-01-17T19:09:35.036Z"
   },
   {
    "duration": 11,
    "start_time": "2025-01-17T19:09:54.190Z"
   },
   {
    "duration": 13,
    "start_time": "2025-01-17T19:10:10.292Z"
   },
   {
    "duration": 14,
    "start_time": "2025-01-17T19:18:13.853Z"
   },
   {
    "duration": 15,
    "start_time": "2025-01-17T19:18:35.252Z"
   },
   {
    "duration": 12,
    "start_time": "2025-01-17T19:18:44.174Z"
   },
   {
    "duration": 14,
    "start_time": "2025-01-17T19:18:48.146Z"
   },
   {
    "duration": 14,
    "start_time": "2025-01-17T19:19:12.541Z"
   },
   {
    "duration": 12,
    "start_time": "2025-01-17T19:19:16.483Z"
   },
   {
    "duration": 117,
    "start_time": "2025-01-17T19:31:31.611Z"
   },
   {
    "duration": 95,
    "start_time": "2025-01-17T19:32:00.400Z"
   },
   {
    "duration": 9,
    "start_time": "2025-01-17T19:32:11.392Z"
   },
   {
    "duration": 8,
    "start_time": "2025-01-17T19:32:45.075Z"
   },
   {
    "duration": 12,
    "start_time": "2025-01-17T19:32:57.554Z"
   },
   {
    "duration": 14,
    "start_time": "2025-01-17T19:33:00.267Z"
   },
   {
    "duration": 9,
    "start_time": "2025-01-17T19:33:44.872Z"
   },
   {
    "duration": 9,
    "start_time": "2025-01-17T19:34:13.276Z"
   },
   {
    "duration": 14,
    "start_time": "2025-01-17T19:34:37.423Z"
   },
   {
    "duration": 15,
    "start_time": "2025-01-17T19:35:06.938Z"
   },
   {
    "duration": 14,
    "start_time": "2025-01-17T19:35:37.651Z"
   },
   {
    "duration": 14,
    "start_time": "2025-01-17T19:39:09.912Z"
   },
   {
    "duration": 12,
    "start_time": "2025-01-17T19:45:51.676Z"
   },
   {
    "duration": 11,
    "start_time": "2025-01-17T19:49:48.086Z"
   },
   {
    "duration": 11,
    "start_time": "2025-01-17T19:50:42.845Z"
   },
   {
    "duration": 12,
    "start_time": "2025-01-17T19:50:49.670Z"
   },
   {
    "duration": 17,
    "start_time": "2025-01-17T19:54:58.893Z"
   },
   {
    "duration": 1704,
    "start_time": "2025-01-17T20:08:10.261Z"
   },
   {
    "duration": 17,
    "start_time": "2025-01-17T20:08:43.770Z"
   },
   {
    "duration": 7,
    "start_time": "2025-01-17T20:17:33.236Z"
   },
   {
    "duration": 82,
    "start_time": "2025-01-17T20:18:24.776Z"
   },
   {
    "duration": 19,
    "start_time": "2025-01-17T20:18:52.055Z"
   },
   {
    "duration": 88,
    "start_time": "2025-01-17T20:18:58.900Z"
   },
   {
    "duration": 6,
    "start_time": "2025-01-17T20:19:07.863Z"
   },
   {
    "duration": 11,
    "start_time": "2025-01-17T20:20:18.003Z"
   },
   {
    "duration": 7,
    "start_time": "2025-01-17T20:20:29.713Z"
   },
   {
    "duration": 8,
    "start_time": "2025-01-17T20:28:03.797Z"
   },
   {
    "duration": 12,
    "start_time": "2025-01-17T20:31:05.762Z"
   },
   {
    "duration": 12,
    "start_time": "2025-01-17T20:31:24.277Z"
   },
   {
    "duration": 11,
    "start_time": "2025-01-17T20:31:36.407Z"
   },
   {
    "duration": 11,
    "start_time": "2025-01-17T20:31:53.294Z"
   },
   {
    "duration": 13,
    "start_time": "2025-01-17T20:32:24.919Z"
   },
   {
    "duration": 7,
    "start_time": "2025-01-17T20:33:09.849Z"
   },
   {
    "duration": 7,
    "start_time": "2025-01-17T20:33:36.567Z"
   },
   {
    "duration": 7,
    "start_time": "2025-01-17T20:33:43.316Z"
   },
   {
    "duration": 49,
    "start_time": "2025-01-18T18:10:12.574Z"
   },
   {
    "duration": 6,
    "start_time": "2025-01-18T18:10:28.370Z"
   },
   {
    "duration": 6,
    "start_time": "2025-01-18T18:10:34.340Z"
   },
   {
    "duration": 491,
    "start_time": "2025-01-18T18:10:42.238Z"
   },
   {
    "duration": 162,
    "start_time": "2025-01-18T18:10:46.110Z"
   },
   {
    "duration": 137,
    "start_time": "2025-01-18T18:10:47.961Z"
   },
   {
    "duration": 26,
    "start_time": "2025-01-18T18:10:50.884Z"
   },
   {
    "duration": 13,
    "start_time": "2025-01-18T18:10:53.853Z"
   },
   {
    "duration": 11,
    "start_time": "2025-01-18T18:10:57.810Z"
   },
   {
    "duration": 2296,
    "start_time": "2025-01-18T18:13:02.951Z"
   },
   {
    "duration": 19,
    "start_time": "2025-01-18T18:14:06.086Z"
   },
   {
    "duration": 8,
    "start_time": "2025-01-18T18:14:19.224Z"
   },
   {
    "duration": 14,
    "start_time": "2025-01-18T18:14:33.908Z"
   },
   {
    "duration": 73,
    "start_time": "2025-01-18T18:14:49.492Z"
   },
   {
    "duration": 10,
    "start_time": "2025-01-18T18:14:56.665Z"
   },
   {
    "duration": 15,
    "start_time": "2025-01-18T18:15:13.483Z"
   },
   {
    "duration": 9,
    "start_time": "2025-01-18T18:15:26.233Z"
   },
   {
    "duration": 8,
    "start_time": "2025-01-18T18:15:46.060Z"
   },
   {
    "duration": 10,
    "start_time": "2025-01-18T18:15:52.815Z"
   },
   {
    "duration": 11,
    "start_time": "2025-01-18T18:16:22.114Z"
   },
   {
    "duration": 15,
    "start_time": "2025-01-18T18:16:37.542Z"
   },
   {
    "duration": 10,
    "start_time": "2025-01-18T18:17:43.083Z"
   },
   {
    "duration": 76,
    "start_time": "2025-01-18T18:18:09.634Z"
   },
   {
    "duration": 15,
    "start_time": "2025-01-18T18:18:20.714Z"
   },
   {
    "duration": 13,
    "start_time": "2025-01-18T18:18:33.305Z"
   },
   {
    "duration": 8,
    "start_time": "2025-01-18T18:18:41.307Z"
   },
   {
    "duration": 10,
    "start_time": "2025-01-18T18:19:17.740Z"
   },
   {
    "duration": 8,
    "start_time": "2025-01-18T18:19:25.401Z"
   },
   {
    "duration": 15,
    "start_time": "2025-01-18T18:20:41.345Z"
   },
   {
    "duration": 14,
    "start_time": "2025-01-18T18:21:39.476Z"
   },
   {
    "duration": 10,
    "start_time": "2025-01-18T18:28:27.132Z"
   },
   {
    "duration": 11,
    "start_time": "2025-01-18T18:28:31.834Z"
   },
   {
    "duration": 9,
    "start_time": "2025-01-18T18:28:41.289Z"
   },
   {
    "duration": 11,
    "start_time": "2025-01-18T18:28:44.187Z"
   },
   {
    "duration": 10,
    "start_time": "2025-01-18T18:28:47.710Z"
   },
   {
    "duration": 10,
    "start_time": "2025-01-18T18:29:24.501Z"
   },
   {
    "duration": 9,
    "start_time": "2025-01-18T18:30:30.794Z"
   },
   {
    "duration": 39782,
    "start_time": "2025-01-18T18:30:35.164Z"
   },
   {
    "duration": 10,
    "start_time": "2025-01-18T18:53:50.356Z"
   },
   {
    "duration": 12,
    "start_time": "2025-01-18T18:54:02.162Z"
   },
   {
    "duration": 7,
    "start_time": "2025-01-18T18:54:05.219Z"
   },
   {
    "duration": 170,
    "start_time": "2025-01-18T18:56:55.540Z"
   },
   {
    "duration": 107,
    "start_time": "2025-01-18T18:57:02.866Z"
   },
   {
    "duration": 73,
    "start_time": "2025-01-18T18:57:04.750Z"
   },
   {
    "duration": 27,
    "start_time": "2025-01-18T18:57:07.729Z"
   },
   {
    "duration": 12,
    "start_time": "2025-01-18T18:57:10.625Z"
   },
   {
    "duration": 10,
    "start_time": "2025-01-18T18:57:13.213Z"
   },
   {
    "duration": 40738,
    "start_time": "2025-01-18T18:57:15.363Z"
   },
   {
    "duration": 11,
    "start_time": "2025-01-18T18:58:48.395Z"
   },
   {
    "duration": 13,
    "start_time": "2025-01-18T18:58:51.707Z"
   },
   {
    "duration": 14,
    "start_time": "2025-01-18T18:58:56.850Z"
   },
   {
    "duration": 14,
    "start_time": "2025-01-18T18:59:01.423Z"
   },
   {
    "duration": 50,
    "start_time": "2025-01-18T18:59:04.392Z"
   },
   {
    "duration": 42,
    "start_time": "2025-01-18T18:59:08.139Z"
   },
   {
    "duration": 11,
    "start_time": "2025-01-18T18:59:14.806Z"
   },
   {
    "duration": 11,
    "start_time": "2025-01-18T18:59:18.732Z"
   },
   {
    "duration": 16,
    "start_time": "2025-01-18T18:59:25.430Z"
   },
   {
    "duration": 12,
    "start_time": "2025-01-18T19:02:31.071Z"
   },
   {
    "duration": 16,
    "start_time": "2025-01-18T19:02:48.330Z"
   },
   {
    "duration": 16,
    "start_time": "2025-01-18T19:02:56.935Z"
   },
   {
    "duration": 2690,
    "start_time": "2025-01-18T19:54:20.369Z"
   },
   {
    "duration": 498,
    "start_time": "2025-01-18T19:54:23.069Z"
   },
   {
    "duration": 499,
    "start_time": "2025-01-18T19:54:23.570Z"
   },
   {
    "duration": 198,
    "start_time": "2025-01-18T19:54:24.155Z"
   },
   {
    "duration": 98,
    "start_time": "2025-01-18T19:54:24.363Z"
   },
   {
    "duration": 92,
    "start_time": "2025-01-18T19:54:24.467Z"
   },
   {
    "duration": 330492,
    "start_time": "2025-01-18T19:54:24.564Z"
   },
   {
    "duration": 105,
    "start_time": "2025-01-18T19:59:55.063Z"
   },
   {
    "duration": 194,
    "start_time": "2025-01-18T19:59:55.172Z"
   },
   {
    "duration": 193,
    "start_time": "2025-01-18T19:59:55.460Z"
   },
   {
    "duration": 193,
    "start_time": "2025-01-18T19:59:55.666Z"
   },
   {
    "duration": 404,
    "start_time": "2025-01-18T19:59:55.862Z"
   },
   {
    "duration": 316,
    "start_time": "2025-01-18T19:59:56.357Z"
   },
   {
    "duration": 105,
    "start_time": "2025-01-18T19:59:56.756Z"
   },
   {
    "duration": 103,
    "start_time": "2025-01-18T19:59:56.869Z"
   },
   {
    "duration": 111,
    "start_time": "2025-01-18T19:59:57.056Z"
   },
   {
    "duration": 202,
    "start_time": "2025-01-18T19:59:57.254Z"
   },
   {
    "duration": 196,
    "start_time": "2025-01-18T19:59:57.458Z"
   },
   {
    "duration": 101,
    "start_time": "2025-01-18T19:59:57.661Z"
   },
   {
    "duration": 9,
    "start_time": "2025-01-18T19:59:57.854Z"
   },
   {
    "duration": 10,
    "start_time": "2025-01-18T19:59:57.955Z"
   },
   {
    "duration": 45,
    "start_time": "2025-01-19T16:59:09.561Z"
   },
   {
    "duration": 561,
    "start_time": "2025-01-19T16:59:13.951Z"
   },
   {
    "duration": 4,
    "start_time": "2025-01-19T16:59:18.893Z"
   },
   {
    "duration": 5,
    "start_time": "2025-01-19T16:59:50.532Z"
   },
   {
    "duration": 14,
    "start_time": "2025-01-19T17:02:46.263Z"
   },
   {
    "duration": 13,
    "start_time": "2025-01-19T17:04:15.304Z"
   },
   {
    "duration": 5,
    "start_time": "2025-01-19T17:05:49.728Z"
   },
   {
    "duration": 9,
    "start_time": "2025-01-19T17:07:47.667Z"
   },
   {
    "duration": 9,
    "start_time": "2025-01-19T17:08:28.484Z"
   },
   {
    "duration": 93,
    "start_time": "2025-01-19T17:18:27.443Z"
   },
   {
    "duration": 11,
    "start_time": "2025-01-19T17:21:57.820Z"
   },
   {
    "duration": 13,
    "start_time": "2025-01-19T17:22:08.229Z"
   },
   {
    "duration": 50220,
    "start_time": "2025-01-19T17:27:42.086Z"
   },
   {
    "duration": 1485,
    "start_time": "2025-01-19T17:30:53.654Z"
   },
   {
    "duration": 1441,
    "start_time": "2025-01-19T17:31:09.029Z"
   },
   {
    "duration": 1401,
    "start_time": "2025-01-19T17:31:36.550Z"
   },
   {
    "duration": 156,
    "start_time": "2025-01-19T17:32:27.209Z"
   },
   {
    "duration": 3,
    "start_time": "2025-01-19T17:32:30.900Z"
   },
   {
    "duration": 5,
    "start_time": "2025-01-19T17:32:32.850Z"
   },
   {
    "duration": 5,
    "start_time": "2025-01-19T17:32:36.786Z"
   },
   {
    "duration": 9,
    "start_time": "2025-01-19T17:32:38.933Z"
   },
   {
    "duration": 25,
    "start_time": "2025-01-19T17:32:42.427Z"
   },
   {
    "duration": 13,
    "start_time": "2025-01-19T17:32:45.862Z"
   },
   {
    "duration": 9,
    "start_time": "2025-01-19T17:32:47.542Z"
   },
   {
    "duration": 11,
    "start_time": "2025-01-19T17:32:51.877Z"
   },
   {
    "duration": 43450,
    "start_time": "2025-01-19T17:33:56.643Z"
   },
   {
    "duration": 7,
    "start_time": "2025-01-19T17:41:29.647Z"
   },
   {
    "duration": 7,
    "start_time": "2025-01-19T17:41:47.972Z"
   },
   {
    "duration": 11,
    "start_time": "2025-01-19T18:04:41.232Z"
   },
   {
    "duration": 12,
    "start_time": "2025-01-19T18:05:56.708Z"
   },
   {
    "duration": 6,
    "start_time": "2025-01-19T18:05:58.638Z"
   },
   {
    "duration": 5,
    "start_time": "2025-01-19T18:07:17.057Z"
   },
   {
    "duration": 13,
    "start_time": "2025-01-19T18:07:37.528Z"
   },
   {
    "duration": 21,
    "start_time": "2025-01-19T18:13:26.851Z"
   },
   {
    "duration": 27,
    "start_time": "2025-01-19T18:13:41.635Z"
   },
   {
    "duration": 56,
    "start_time": "2025-01-19T18:14:04.388Z"
   },
   {
    "duration": 64,
    "start_time": "2025-01-19T18:14:15.344Z"
   },
   {
    "duration": 53,
    "start_time": "2025-01-19T18:14:19.194Z"
   },
   {
    "duration": 59,
    "start_time": "2025-01-19T18:23:46.264Z"
   },
   {
    "duration": 40,
    "start_time": "2025-01-19T18:24:01.736Z"
   },
   {
    "duration": 49,
    "start_time": "2025-01-19T18:24:09.058Z"
   },
   {
    "duration": 38,
    "start_time": "2025-01-19T18:24:12.456Z"
   },
   {
    "duration": 43,
    "start_time": "2025-01-19T18:25:58.092Z"
   },
   {
    "duration": 52,
    "start_time": "2025-01-19T18:26:46.874Z"
   },
   {
    "duration": 47,
    "start_time": "2025-01-19T18:27:43.339Z"
   },
   {
    "duration": 59,
    "start_time": "2025-01-19T18:28:39.396Z"
   },
   {
    "duration": 30,
    "start_time": "2025-01-19T18:29:09.860Z"
   },
   {
    "duration": 50,
    "start_time": "2025-01-19T18:29:33.828Z"
   },
   {
    "duration": 56,
    "start_time": "2025-01-19T18:30:16.163Z"
   },
   {
    "duration": 51,
    "start_time": "2025-01-19T18:30:21.419Z"
   },
   {
    "duration": 33,
    "start_time": "2025-01-19T18:31:58.424Z"
   },
   {
    "duration": 142,
    "start_time": "2025-01-19T18:32:17.843Z"
   },
   {
    "duration": 4,
    "start_time": "2025-01-19T18:32:21.530Z"
   },
   {
    "duration": 5,
    "start_time": "2025-01-19T18:32:23.432Z"
   },
   {
    "duration": 5,
    "start_time": "2025-01-19T18:32:27.244Z"
   },
   {
    "duration": 9,
    "start_time": "2025-01-19T18:32:29.885Z"
   },
   {
    "duration": 25,
    "start_time": "2025-01-19T18:32:32.767Z"
   },
   {
    "duration": 11,
    "start_time": "2025-01-19T18:32:35.599Z"
   },
   {
    "duration": 10,
    "start_time": "2025-01-19T18:32:37.423Z"
   },
   {
    "duration": 17,
    "start_time": "2025-01-19T18:32:41.672Z"
   },
   {
    "duration": 8,
    "start_time": "2025-01-19T18:32:43.622Z"
   },
   {
    "duration": 4,
    "start_time": "2025-01-19T18:32:48.679Z"
   },
   {
    "duration": 14,
    "start_time": "2025-01-19T18:32:52.335Z"
   },
   {
    "duration": 17,
    "start_time": "2025-01-19T18:32:58.274Z"
   },
   {
    "duration": 26,
    "start_time": "2025-01-19T18:33:00.832Z"
   },
   {
    "duration": 17,
    "start_time": "2025-01-19T18:33:05.899Z"
   },
   {
    "duration": 14,
    "start_time": "2025-01-19T18:33:08.881Z"
   },
   {
    "duration": 36,
    "start_time": "2025-01-19T18:33:11.025Z"
   },
   {
    "duration": 57,
    "start_time": "2025-01-19T18:33:39.546Z"
   },
   {
    "duration": 47,
    "start_time": "2025-01-19T18:33:51.719Z"
   },
   {
    "duration": 23,
    "start_time": "2025-01-19T18:34:54.538Z"
   },
   {
    "duration": 14,
    "start_time": "2025-01-19T18:53:24.343Z"
   },
   {
    "duration": 10,
    "start_time": "2025-01-19T18:54:34.843Z"
   },
   {
    "duration": 14,
    "start_time": "2025-01-19T18:55:20.167Z"
   },
   {
    "duration": 15,
    "start_time": "2025-01-19T18:57:20.171Z"
   },
   {
    "duration": 36,
    "start_time": "2025-01-19T18:57:44.314Z"
   },
   {
    "duration": 15,
    "start_time": "2025-01-19T18:59:52.713Z"
   },
   {
    "duration": 36,
    "start_time": "2025-01-19T19:00:32.834Z"
   },
   {
    "duration": 38,
    "start_time": "2025-01-19T19:01:36.518Z"
   },
   {
    "duration": 31,
    "start_time": "2025-01-19T19:01:55.338Z"
   },
   {
    "duration": 28,
    "start_time": "2025-01-19T19:02:36.447Z"
   },
   {
    "duration": 25,
    "start_time": "2025-01-19T19:03:08.011Z"
   },
   {
    "duration": 526,
    "start_time": "2025-01-19T20:24:01.260Z"
   },
   {
    "duration": 3,
    "start_time": "2025-01-19T20:24:01.789Z"
   },
   {
    "duration": 84,
    "start_time": "2025-01-19T20:24:01.794Z"
   },
   {
    "duration": 146,
    "start_time": "2025-01-19T20:24:01.881Z"
   },
   {
    "duration": 105,
    "start_time": "2025-01-19T20:24:02.029Z"
   },
   {
    "duration": 0,
    "start_time": "2025-01-19T20:24:02.136Z"
   },
   {
    "duration": 0,
    "start_time": "2025-01-19T20:24:02.138Z"
   },
   {
    "duration": 0,
    "start_time": "2025-01-19T20:24:02.139Z"
   },
   {
    "duration": 0,
    "start_time": "2025-01-19T20:24:02.140Z"
   },
   {
    "duration": 0,
    "start_time": "2025-01-19T20:24:02.143Z"
   },
   {
    "duration": 0,
    "start_time": "2025-01-19T20:24:02.144Z"
   },
   {
    "duration": 0,
    "start_time": "2025-01-19T20:24:02.145Z"
   },
   {
    "duration": 0,
    "start_time": "2025-01-19T20:24:02.146Z"
   },
   {
    "duration": 0,
    "start_time": "2025-01-19T20:24:02.147Z"
   },
   {
    "duration": 0,
    "start_time": "2025-01-19T20:24:02.148Z"
   },
   {
    "duration": 0,
    "start_time": "2025-01-19T20:24:02.149Z"
   },
   {
    "duration": 0,
    "start_time": "2025-01-19T20:24:02.150Z"
   },
   {
    "duration": 1,
    "start_time": "2025-01-19T20:24:02.151Z"
   },
   {
    "duration": 0,
    "start_time": "2025-01-19T20:24:02.152Z"
   },
   {
    "duration": 0,
    "start_time": "2025-01-19T20:24:02.154Z"
   },
   {
    "duration": 0,
    "start_time": "2025-01-19T20:24:02.155Z"
   },
   {
    "duration": 0,
    "start_time": "2025-01-19T20:24:02.156Z"
   },
   {
    "duration": 0,
    "start_time": "2025-01-19T20:24:02.157Z"
   },
   {
    "duration": 0,
    "start_time": "2025-01-19T20:24:02.158Z"
   },
   {
    "duration": 0,
    "start_time": "2025-01-19T20:24:02.159Z"
   },
   {
    "duration": 0,
    "start_time": "2025-01-19T20:24:02.160Z"
   },
   {
    "duration": 0,
    "start_time": "2025-01-19T20:24:02.161Z"
   },
   {
    "duration": 27,
    "start_time": "2025-01-19T20:26:13.120Z"
   },
   {
    "duration": 9,
    "start_time": "2025-01-19T20:26:15.309Z"
   },
   {
    "duration": 10,
    "start_time": "2025-01-19T20:26:15.845Z"
   },
   {
    "duration": 12,
    "start_time": "2025-01-19T20:26:19.493Z"
   },
   {
    "duration": 7,
    "start_time": "2025-01-19T20:26:20.124Z"
   },
   {
    "duration": 4,
    "start_time": "2025-01-19T20:26:22.981Z"
   },
   {
    "duration": 15,
    "start_time": "2025-01-19T20:26:23.647Z"
   },
   {
    "duration": 11,
    "start_time": "2025-01-19T20:26:53.532Z"
   },
   {
    "duration": 18,
    "start_time": "2025-01-19T20:26:54.775Z"
   },
   {
    "duration": 19,
    "start_time": "2025-01-19T20:26:56.238Z"
   },
   {
    "duration": 16,
    "start_time": "2025-01-19T20:26:57.251Z"
   },
   {
    "duration": 70,
    "start_time": "2025-01-19T20:26:57.813Z"
   },
   {
    "duration": 54,
    "start_time": "2025-01-19T20:26:58.617Z"
   },
   {
    "duration": 17,
    "start_time": "2025-01-19T20:27:01.655Z"
   },
   {
    "duration": 15,
    "start_time": "2025-01-19T20:27:03.022Z"
   },
   {
    "duration": 27,
    "start_time": "2025-01-19T20:27:04.133Z"
   },
   {
    "duration": 87,
    "start_time": "2025-01-19T20:27:04.999Z"
   },
   {
    "duration": 29,
    "start_time": "2025-01-19T20:27:44.832Z"
   },
   {
    "duration": 19,
    "start_time": "2025-01-19T20:27:46.118Z"
   },
   {
    "duration": 7,
    "start_time": "2025-01-19T20:27:46.720Z"
   },
   {
    "duration": 8,
    "start_time": "2025-01-19T20:27:47.383Z"
   },
   {
    "duration": 8,
    "start_time": "2025-01-19T20:27:48.305Z"
   },
   {
    "duration": 50,
    "start_time": "2025-01-20T16:43:54.466Z"
   },
   {
    "duration": 556,
    "start_time": "2025-01-20T16:44:06.605Z"
   },
   {
    "duration": 4,
    "start_time": "2025-01-20T16:44:12.054Z"
   },
   {
    "duration": 4,
    "start_time": "2025-01-20T16:44:17.354Z"
   },
   {
    "duration": 5,
    "start_time": "2025-01-20T16:44:21.555Z"
   },
   {
    "duration": 9,
    "start_time": "2025-01-20T16:44:24.333Z"
   },
   {
    "duration": 27,
    "start_time": "2025-01-20T16:44:33.246Z"
   },
   {
    "duration": 8,
    "start_time": "2025-01-20T16:44:37.668Z"
   },
   {
    "duration": 11,
    "start_time": "2025-01-20T16:44:40.400Z"
   },
   {
    "duration": 9,
    "start_time": "2025-01-20T16:45:57.279Z"
   },
   {
    "duration": 9,
    "start_time": "2025-01-20T16:45:59.030Z"
   },
   {
    "duration": 11,
    "start_time": "2025-01-20T16:46:03.390Z"
   },
   {
    "duration": 11,
    "start_time": "2025-01-20T16:46:12.147Z"
   },
   {
    "duration": 5,
    "start_time": "2025-01-20T16:46:33.578Z"
   },
   {
    "duration": 120,
    "start_time": "2025-01-20T16:46:50.854Z"
   },
   {
    "duration": 3,
    "start_time": "2025-01-20T16:47:02.152Z"
   },
   {
    "duration": 4,
    "start_time": "2025-01-20T16:47:04.750Z"
   },
   {
    "duration": 5,
    "start_time": "2025-01-20T16:47:08.592Z"
   },
   {
    "duration": 8,
    "start_time": "2025-01-20T16:47:13.499Z"
   },
   {
    "duration": 26,
    "start_time": "2025-01-20T16:47:28.508Z"
   },
   {
    "duration": 9,
    "start_time": "2025-01-20T16:47:32.438Z"
   },
   {
    "duration": 9,
    "start_time": "2025-01-20T16:47:34.459Z"
   },
   {
    "duration": 30,
    "start_time": "2025-01-20T16:55:36.922Z"
   },
   {
    "duration": 28,
    "start_time": "2025-01-20T16:55:45.508Z"
   },
   {
    "duration": 7,
    "start_time": "2025-01-20T16:55:46.291Z"
   },
   {
    "duration": 16,
    "start_time": "2025-01-20T16:56:23.472Z"
   },
   {
    "duration": 17,
    "start_time": "2025-01-20T16:56:58.475Z"
   },
   {
    "duration": 6,
    "start_time": "2025-01-20T17:09:06.501Z"
   },
   {
    "duration": 118,
    "start_time": "2025-01-20T17:09:43.368Z"
   },
   {
    "duration": 4,
    "start_time": "2025-01-20T17:09:48.712Z"
   },
   {
    "duration": 4,
    "start_time": "2025-01-20T17:09:51.073Z"
   },
   {
    "duration": 5,
    "start_time": "2025-01-20T17:09:54.777Z"
   },
   {
    "duration": 9,
    "start_time": "2025-01-20T17:09:57.074Z"
   },
   {
    "duration": 25,
    "start_time": "2025-01-20T17:10:00.340Z"
   },
   {
    "duration": 9,
    "start_time": "2025-01-20T17:10:03.243Z"
   },
   {
    "duration": 9,
    "start_time": "2025-01-20T17:10:05.212Z"
   },
   {
    "duration": 8,
    "start_time": "2025-01-20T17:10:41.767Z"
   },
   {
    "duration": 32,
    "start_time": "2025-01-20T17:21:07.589Z"
   },
   {
    "duration": 32,
    "start_time": "2025-01-20T17:21:12.772Z"
   },
   {
    "duration": 35,
    "start_time": "2025-01-20T17:21:51.219Z"
   },
   {
    "duration": 36,
    "start_time": "2025-01-20T17:22:23.692Z"
   },
   {
    "duration": 12,
    "start_time": "2025-01-20T17:22:57.774Z"
   },
   {
    "duration": 14,
    "start_time": "2025-01-20T17:30:20.489Z"
   },
   {
    "duration": 131,
    "start_time": "2025-01-20T17:31:01.485Z"
   },
   {
    "duration": 3,
    "start_time": "2025-01-20T17:31:06.817Z"
   },
   {
    "duration": 4,
    "start_time": "2025-01-20T17:31:09.523Z"
   },
   {
    "duration": 5,
    "start_time": "2025-01-20T17:31:13.855Z"
   },
   {
    "duration": 8,
    "start_time": "2025-01-20T17:31:16.203Z"
   },
   {
    "duration": 27,
    "start_time": "2025-01-20T17:31:18.902Z"
   },
   {
    "duration": 9,
    "start_time": "2025-01-20T17:31:22.515Z"
   },
   {
    "duration": 9,
    "start_time": "2025-01-20T17:31:25.114Z"
   },
   {
    "duration": 7,
    "start_time": "2025-01-20T17:31:30.687Z"
   },
   {
    "duration": 17,
    "start_time": "2025-01-20T17:31:37.050Z"
   },
   {
    "duration": 14,
    "start_time": "2025-01-20T17:31:39.660Z"
   },
   {
    "duration": 14,
    "start_time": "2025-01-20T17:32:01.588Z"
   },
   {
    "duration": 9,
    "start_time": "2025-01-20T17:41:31.066Z"
   },
   {
    "duration": 22,
    "start_time": "2025-01-20T17:41:42.262Z"
   },
   {
    "duration": 17,
    "start_time": "2025-01-20T17:41:46.341Z"
   },
   {
    "duration": 15,
    "start_time": "2025-01-20T17:41:51.411Z"
   },
   {
    "duration": 66,
    "start_time": "2025-01-20T17:41:53.285Z"
   },
   {
    "duration": 49,
    "start_time": "2025-01-20T17:41:57.820Z"
   },
   {
    "duration": 18,
    "start_time": "2025-01-20T17:42:03.099Z"
   },
   {
    "duration": 15,
    "start_time": "2025-01-20T17:42:08.242Z"
   },
   {
    "duration": 40,
    "start_time": "2025-01-20T17:42:12.729Z"
   },
   {
    "duration": 28,
    "start_time": "2025-01-20T17:45:27.145Z"
   },
   {
    "duration": 29,
    "start_time": "2025-01-20T17:48:33.349Z"
   },
   {
    "duration": 27,
    "start_time": "2025-01-20T17:48:50.475Z"
   },
   {
    "duration": 14,
    "start_time": "2025-01-20T17:55:50.952Z"
   },
   {
    "duration": 119,
    "start_time": "2025-01-20T17:56:09.049Z"
   },
   {
    "duration": 4,
    "start_time": "2025-01-20T17:56:14.134Z"
   },
   {
    "duration": 4,
    "start_time": "2025-01-20T17:56:16.883Z"
   },
   {
    "duration": 5,
    "start_time": "2025-01-20T17:56:22.696Z"
   },
   {
    "duration": 9,
    "start_time": "2025-01-20T17:56:25.707Z"
   },
   {
    "duration": 28,
    "start_time": "2025-01-20T17:56:31.447Z"
   },
   {
    "duration": 10,
    "start_time": "2025-01-20T17:56:35.136Z"
   },
   {
    "duration": 10,
    "start_time": "2025-01-20T17:56:37.009Z"
   },
   {
    "duration": 9,
    "start_time": "2025-01-20T17:57:52.966Z"
   },
   {
    "duration": 17,
    "start_time": "2025-01-20T17:57:55.422Z"
   },
   {
    "duration": 16,
    "start_time": "2025-01-20T17:58:06.766Z"
   },
   {
    "duration": 16,
    "start_time": "2025-01-20T17:58:10.861Z"
   },
   {
    "duration": 4,
    "start_time": "2025-01-20T17:58:23.959Z"
   },
   {
    "duration": 15,
    "start_time": "2025-01-20T17:58:25.558Z"
   },
   {
    "duration": 13,
    "start_time": "2025-01-20T17:58:45.777Z"
   },
   {
    "duration": 18,
    "start_time": "2025-01-20T17:58:49.494Z"
   },
   {
    "duration": 16,
    "start_time": "2025-01-20T17:58:53.370Z"
   },
   {
    "duration": 16,
    "start_time": "2025-01-20T17:58:57.356Z"
   },
   {
    "duration": 62,
    "start_time": "2025-01-20T17:58:59.246Z"
   },
   {
    "duration": 49,
    "start_time": "2025-01-20T17:59:04.950Z"
   },
   {
    "duration": 17,
    "start_time": "2025-01-20T17:59:12.385Z"
   },
   {
    "duration": 15,
    "start_time": "2025-01-20T17:59:16.152Z"
   },
   {
    "duration": 28,
    "start_time": "2025-01-20T17:59:19.736Z"
   },
   {
    "duration": 28,
    "start_time": "2025-01-20T17:59:29.059Z"
   },
   {
    "duration": 21,
    "start_time": "2025-01-20T17:59:42.058Z"
   },
   {
    "duration": 7,
    "start_time": "2025-01-20T17:59:44.427Z"
   },
   {
    "duration": 8,
    "start_time": "2025-01-20T17:59:48.601Z"
   },
   {
    "duration": 11,
    "start_time": "2025-01-20T17:59:55.586Z"
   },
   {
    "duration": 2715,
    "start_time": "2025-01-20T21:14:13.950Z"
   },
   {
    "duration": 3,
    "start_time": "2025-01-20T21:14:16.753Z"
   },
   {
    "duration": 6,
    "start_time": "2025-01-20T21:14:16.758Z"
   },
   {
    "duration": 5,
    "start_time": "2025-01-20T21:14:16.765Z"
   },
   {
    "duration": 7,
    "start_time": "2025-01-20T21:14:16.772Z"
   },
   {
    "duration": 177,
    "start_time": "2025-01-20T21:14:16.780Z"
   },
   {
    "duration": 8,
    "start_time": "2025-01-20T21:14:16.959Z"
   },
   {
    "duration": 103,
    "start_time": "2025-01-20T21:14:17.046Z"
   },
   {
    "duration": 10,
    "start_time": "2025-01-20T21:14:17.151Z"
   },
   {
    "duration": 99,
    "start_time": "2025-01-20T21:14:17.163Z"
   },
   {
    "duration": 108,
    "start_time": "2025-01-20T21:14:17.346Z"
   },
   {
    "duration": 100,
    "start_time": "2025-01-20T21:14:17.458Z"
   },
   {
    "duration": 89,
    "start_time": "2025-01-20T21:14:17.561Z"
   },
   {
    "duration": 102,
    "start_time": "2025-01-20T21:14:17.652Z"
   },
   {
    "duration": 96,
    "start_time": "2025-01-20T21:14:17.756Z"
   },
   {
    "duration": 104,
    "start_time": "2025-01-20T21:14:17.853Z"
   },
   {
    "duration": 101,
    "start_time": "2025-01-20T21:14:17.958Z"
   },
   {
    "duration": 101,
    "start_time": "2025-01-20T21:14:18.147Z"
   },
   {
    "duration": 396,
    "start_time": "2025-01-20T21:14:18.250Z"
   },
   {
    "duration": 207,
    "start_time": "2025-01-20T21:14:18.648Z"
   },
   {
    "duration": 97,
    "start_time": "2025-01-20T21:14:18.857Z"
   },
   {
    "duration": 90,
    "start_time": "2025-01-20T21:14:18.956Z"
   },
   {
    "duration": 101,
    "start_time": "2025-01-20T21:14:19.048Z"
   },
   {
    "duration": 297,
    "start_time": "2025-01-20T21:14:19.151Z"
   },
   {
    "duration": 0,
    "start_time": "2025-01-20T21:14:19.450Z"
   },
   {
    "duration": 0,
    "start_time": "2025-01-20T21:14:19.451Z"
   },
   {
    "duration": 0,
    "start_time": "2025-01-20T21:14:19.452Z"
   },
   {
    "duration": 0,
    "start_time": "2025-01-20T21:14:19.453Z"
   },
   {
    "duration": 0,
    "start_time": "2025-01-20T21:14:19.454Z"
   },
   {
    "duration": 498,
    "start_time": "2025-01-21T09:24:23.737Z"
   },
   {
    "duration": 3,
    "start_time": "2025-01-21T09:24:24.237Z"
   },
   {
    "duration": 5,
    "start_time": "2025-01-21T09:24:24.242Z"
   },
   {
    "duration": 15,
    "start_time": "2025-01-21T09:24:24.249Z"
   },
   {
    "duration": 11,
    "start_time": "2025-01-21T09:24:24.266Z"
   },
   {
    "duration": 29,
    "start_time": "2025-01-21T09:24:24.278Z"
   },
   {
    "duration": 7,
    "start_time": "2025-01-21T09:24:24.309Z"
   },
   {
    "duration": 10,
    "start_time": "2025-01-21T09:24:24.317Z"
   },
   {
    "duration": 7,
    "start_time": "2025-01-21T09:24:24.328Z"
   },
   {
    "duration": 49,
    "start_time": "2025-01-21T09:24:24.338Z"
   },
   {
    "duration": 13,
    "start_time": "2025-01-21T09:24:24.389Z"
   },
   {
    "duration": 13,
    "start_time": "2025-01-21T09:24:24.404Z"
   },
   {
    "duration": 4,
    "start_time": "2025-01-21T09:24:24.418Z"
   },
   {
    "duration": 19,
    "start_time": "2025-01-21T09:24:24.423Z"
   },
   {
    "duration": 19,
    "start_time": "2025-01-21T09:24:24.443Z"
   },
   {
    "duration": 32,
    "start_time": "2025-01-21T09:24:24.463Z"
   },
   {
    "duration": 14,
    "start_time": "2025-01-21T09:24:24.497Z"
   },
   {
    "duration": 11,
    "start_time": "2025-01-21T09:24:24.512Z"
   },
   {
    "duration": 81,
    "start_time": "2025-01-21T09:24:24.524Z"
   },
   {
    "duration": 44,
    "start_time": "2025-01-21T09:24:24.606Z"
   },
   {
    "duration": 15,
    "start_time": "2025-01-21T09:24:24.651Z"
   },
   {
    "duration": 12,
    "start_time": "2025-01-21T09:24:24.686Z"
   },
   {
    "duration": 32,
    "start_time": "2025-01-21T09:24:24.699Z"
   },
   {
    "duration": 91,
    "start_time": "2025-01-21T09:24:24.732Z"
   },
   {
    "duration": 0,
    "start_time": "2025-01-21T09:24:24.824Z"
   },
   {
    "duration": 0,
    "start_time": "2025-01-21T09:24:24.825Z"
   },
   {
    "duration": 0,
    "start_time": "2025-01-21T09:24:24.826Z"
   },
   {
    "duration": 0,
    "start_time": "2025-01-21T09:24:24.828Z"
   },
   {
    "duration": 0,
    "start_time": "2025-01-21T09:24:24.828Z"
   },
   {
    "duration": 24,
    "start_time": "2025-01-21T09:29:17.405Z"
   },
   {
    "duration": 15,
    "start_time": "2025-01-21T09:29:18.711Z"
   },
   {
    "duration": 6,
    "start_time": "2025-01-21T09:29:19.069Z"
   },
   {
    "duration": 6,
    "start_time": "2025-01-21T09:29:19.412Z"
   },
   {
    "duration": 7,
    "start_time": "2025-01-21T09:29:20.061Z"
   }
  ],
  "colab": {
   "provenance": []
  },
  "kernelspec": {
   "display_name": "Python 3 (ipykernel)",
   "language": "python",
   "name": "python3"
  },
  "language_info": {
   "codemirror_mode": {
    "name": "ipython",
    "version": 3
   },
   "file_extension": ".py",
   "mimetype": "text/x-python",
   "name": "python",
   "nbconvert_exporter": "python",
   "pygments_lexer": "ipython3",
   "version": "3.9.5"
  },
  "toc": {
   "base_numbering": 1,
   "nav_menu": {},
   "number_sections": true,
   "sideBar": true,
   "skip_h1_title": true,
   "title_cell": "Table of Contents",
   "title_sidebar": "Contents",
   "toc_cell": false,
   "toc_position": {},
   "toc_section_display": true,
   "toc_window_display": false
  }
 },
 "nbformat": 4,
 "nbformat_minor": 5
}
